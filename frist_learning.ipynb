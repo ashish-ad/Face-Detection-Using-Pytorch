{
 "metadata": {
  "language_info": {
   "codemirror_mode": {
    "name": "ipython",
    "version": 3
   },
   "file_extension": ".py",
   "mimetype": "text/x-python",
   "name": "python",
   "nbconvert_exporter": "python",
   "pygments_lexer": "ipython3",
   "version": "3.8.10"
  },
  "orig_nbformat": 2,
  "kernelspec": {
   "name": "python3810jvsc74a57bd0aa2917ff40ac611a08eb2de89909bd71c832d2f7a877c0329168b0a9ee18959b",
   "display_name": "Python 3.8.10 64-bit"
  }
 },
 "nbformat": 4,
 "nbformat_minor": 2,
 "cells": [
  {
   "cell_type": "code",
   "execution_count": 4,
   "metadata": {},
   "outputs": [],
   "source": [
    "import torch"
   ]
  },
  {
   "cell_type": "code",
   "execution_count": 7,
   "metadata": {},
   "outputs": [
    {
     "output_type": "stream",
     "name": "stdout",
     "text": [
      "tensor([[0.9389, 0.7702, 0.8374],\n        [0.7338, 0.5442, 0.0074],\n        [0.2033, 0.8714, 0.4619],\n        [0.9608, 0.8278, 0.2746],\n        [0.7678, 0.7920, 0.6305]])\n"
     ]
    }
   ],
   "source": [
    "x = torch.rand(5,3)\n",
    "print(x)"
   ]
  },
  {
   "cell_type": "code",
   "execution_count": 8,
   "metadata": {},
   "outputs": [
    {
     "output_type": "execute_result",
     "data": {
      "text/plain": [
       "True"
      ]
     },
     "metadata": {},
     "execution_count": 8
    }
   ],
   "source": [
    "torch.cuda.is_available()"
   ]
  },
  {
   "cell_type": "code",
   "execution_count": 2,
   "metadata": {},
   "outputs": [
    {
     "output_type": "stream",
     "name": "stderr",
     "text": [
      "WARNING: Ignoring invalid distribution -illow (c:\\users\\ashis\\appdata\\local\\programs\\python\\python38\\lib\\site-packages)\nWARNING: Requirement 'facenet-pytorch-vggface2/facenet-pytorch-2.2.7-none-any.whl' looks like a filename, but the file does not exist\nWARNING: Ignoring invalid distribution -illow (c:\\users\\ashis\\appdata\\local\\programs\\python\\python38\\lib\\site-packages)\nERROR: facenet-pytorch-2.2.7-none-any.whl is not a supported wheel on this platform.\nWARNING: Ignoring invalid distribution -illow (c:\\users\\ashis\\appdata\\local\\programs\\python\\python38\\lib\\site-packages)\nWARNING: Ignoring invalid distribution -illow (c:\\users\\ashis\\appdata\\local\\programs\\python\\python38\\lib\\site-packages)\n"
     ]
    }
   ],
   "source": [
    "!pip install facenet-pytorch-vggface2/facenet-pytorch-2.2.7-none-any.whl --user"
   ]
  },
  {
   "cell_type": "code",
   "execution_count": null,
   "metadata": {},
   "outputs": [],
   "source": []
  }
 ]
}