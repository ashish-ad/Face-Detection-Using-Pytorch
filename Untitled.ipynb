{
 "cells": [
  {
   "cell_type": "code",
   "execution_count": 1,
   "id": "jewish-farming",
   "metadata": {},
   "outputs": [],
   "source": [
    "import os\n",
    "import numpy as np\n",
    "import torch\n",
    "import glob\n",
    "import torch.nn as nn\n",
    "from torchvision.transforms import transforms\n",
    "from torch.utils.data import DataLoader\n",
    "from torch.optim import Adam\n",
    "from torch.autograd import Variable\n",
    "import torchvision\n",
    "import pathlib"
   ]
  },
  {
   "cell_type": "code",
   "execution_count": 2,
   "id": "economic-xerox",
   "metadata": {},
   "outputs": [],
   "source": [
    "device=torch.device('cuda' if torch.cuda.is_available() else 'cpu')"
   ]
  },
  {
   "cell_type": "code",
   "execution_count": 3,
   "id": "vital-lying",
   "metadata": {},
   "outputs": [],
   "source": [
    "#Transforms\n",
    "transformer=transforms.Compose([\n",
    "    transforms.Resize((150,150)),\n",
    "    transforms.RandomHorizontalFlip(),\n",
    "    transforms.ToTensor(),  #0-255 to 0-1, numpy to tensors\n",
    "    transforms.Normalize([0.5,0.5,0.5], # 0-1 to [-1,1] , formula (x-mean)/std\n",
    "                        [0.5,0.5,0.5])\n",
    "])"
   ]
  },
  {
   "cell_type": "code",
   "execution_count": 4,
   "id": "accurate-knight",
   "metadata": {},
   "outputs": [
    {
     "name": "stdout",
     "output_type": "stream",
     "text": [
      "['F:/trainset/trainset\\\\', 'F:/trainset/trainset\\\\0001\\\\', 'F:/trainset/trainset\\\\0001\\\\0001_0000255\\\\', 'F:/trainset/trainset\\\\0001\\\\0001_0000262\\\\', 'F:/trainset/trainset\\\\0001\\\\0001_0000264\\\\', 'F:/trainset/trainset\\\\0001\\\\0001_0000265\\\\', 'F:/trainset/trainset\\\\0001\\\\0001_0000268\\\\', 'F:/trainset/trainset\\\\0001\\\\0001_0000274\\\\', 'F:/trainset/trainset\\\\0001\\\\0001_0000278\\\\', 'F:/trainset/trainset\\\\0001\\\\0001_0000281\\\\', 'F:/trainset/trainset\\\\0001\\\\0001_0000283\\\\', 'F:/trainset/trainset\\\\0001\\\\0001_0000284\\\\', 'F:/trainset/trainset\\\\0001\\\\0001_0000286\\\\', 'F:/trainset/trainset\\\\0001\\\\0001_0000292\\\\', 'F:/trainset/trainset\\\\0001\\\\0001_0000293\\\\', 'F:/trainset/trainset\\\\0001\\\\0001_0000297\\\\', 'F:/trainset/trainset\\\\0001\\\\0001_0000298\\\\', 'F:/trainset/trainset\\\\0001\\\\0001_0000299\\\\', 'F:/trainset/trainset\\\\0001\\\\0001_0000301\\\\', 'F:/trainset/trainset\\\\0001\\\\0001_0000303\\\\', 'F:/trainset/trainset\\\\0001\\\\0001_0000304\\\\', 'F:/trainset/trainset\\\\0001\\\\0001_0000305\\\\', 'F:/trainset/trainset\\\\0002\\\\', 'F:/trainset/trainset\\\\0002\\\\0002_0000307\\\\', 'F:/trainset/trainset\\\\0002\\\\0002_0000308\\\\', 'F:/trainset/trainset\\\\0002\\\\0002_0000313\\\\', 'F:/trainset/trainset\\\\0002\\\\0002_0000324\\\\', 'F:/trainset/trainset\\\\0003\\\\', 'F:/trainset/trainset\\\\0003\\\\0003_0000329\\\\', 'F:/trainset/trainset\\\\0003\\\\0003_0000339\\\\', 'F:/trainset/trainset\\\\0003\\\\0003_0000343\\\\', 'F:/trainset/trainset\\\\0003\\\\0003_0000344\\\\', 'F:/trainset/trainset\\\\0003\\\\0003_0000345\\\\', 'F:/trainset/trainset\\\\0003\\\\0003_0000347\\\\', 'F:/trainset/trainset\\\\0003\\\\0003_0000348\\\\', 'F:/trainset/trainset\\\\0003\\\\0003_0000353\\\\', 'F:/trainset/trainset\\\\0003\\\\0003_0000354\\\\', 'F:/trainset/trainset\\\\0003\\\\0003_0000356\\\\', 'F:/trainset/trainset\\\\0003\\\\0003_0000359\\\\', 'F:/trainset/trainset\\\\0003\\\\0003_0000360\\\\', 'F:/trainset/trainset\\\\0003\\\\0003_0000361\\\\', 'F:/trainset/trainset\\\\0003\\\\0003_0000362\\\\', 'F:/trainset/trainset\\\\0003\\\\0003_0000371\\\\', 'F:/trainset/trainset\\\\0003\\\\0003_0000372\\\\', 'F:/trainset/trainset\\\\0003\\\\0003_0000375\\\\', 'F:/trainset/trainset\\\\0003\\\\0003_0000386\\\\', 'F:/trainset/trainset\\\\0003\\\\0003_0000390\\\\', 'F:/trainset/trainset\\\\0003\\\\0003_0000392\\\\', 'F:/trainset/trainset\\\\0005\\\\', 'F:/trainset/trainset\\\\0005\\\\0005_0000437\\\\', 'F:/trainset/trainset\\\\0005\\\\0005_0000439\\\\', 'F:/trainset/trainset\\\\0005\\\\0005_0000449\\\\', 'F:/trainset/trainset\\\\0005\\\\0005_0000450\\\\', 'F:/trainset/trainset\\\\0005\\\\0005_0000451\\\\', 'F:/trainset/trainset\\\\0005\\\\0005_0000452\\\\', 'F:/trainset/trainset\\\\0005\\\\0005_0000455\\\\', 'F:/trainset/trainset\\\\0005\\\\0005_0000463\\\\', 'F:/trainset/trainset\\\\0005\\\\0005_0000464\\\\', 'F:/trainset/trainset\\\\0005\\\\0005_0000475\\\\', 'F:/trainset/trainset\\\\0005\\\\0005_0000478\\\\', 'F:/trainset/trainset\\\\0005\\\\0005_0000486\\\\', 'F:/trainset/trainset\\\\0005\\\\0005_0000487\\\\', 'F:/trainset/trainset\\\\0005\\\\0005_0000497\\\\', 'F:/trainset/trainset\\\\0005\\\\0005_0000503\\\\', 'F:/trainset/trainset\\\\0005\\\\0005_0000509\\\\', 'F:/trainset/trainset\\\\0005\\\\0005_0000510\\\\', 'F:/trainset/trainset\\\\0005\\\\0005_0000512\\\\', 'F:/trainset/trainset\\\\0005\\\\0005_0000513\\\\', 'F:/trainset/trainset\\\\0005\\\\0005_0000516\\\\', 'F:/trainset/trainset\\\\0005\\\\0005_0000519\\\\', 'F:/trainset/trainset\\\\0005\\\\0005_0000525\\\\', 'F:/trainset/trainset\\\\0005\\\\0005_0000530\\\\', 'F:/trainset/trainset\\\\0005\\\\0005_0000532\\\\', 'F:/trainset/trainset\\\\0005\\\\0005_0000536\\\\', 'F:/trainset/trainset\\\\0005\\\\0005_0000537\\\\', 'F:/trainset/trainset\\\\0005\\\\0005_0000542\\\\', 'F:/trainset/trainset\\\\0006\\\\', 'F:/trainset/trainset\\\\0006\\\\0006_0000546\\\\', 'F:/trainset/trainset\\\\0006\\\\0006_0000549\\\\', 'F:/trainset/trainset\\\\0006\\\\0006_0000550\\\\', 'F:/trainset/trainset\\\\0006\\\\0006_0000557\\\\', 'F:/trainset/trainset\\\\0006\\\\0006_0000558\\\\', 'F:/trainset/trainset\\\\0006\\\\0006_0000562\\\\', 'F:/trainset/trainset\\\\0006\\\\0006_0000563\\\\', 'F:/trainset/trainset\\\\0006\\\\0006_0000564\\\\', 'F:/trainset/trainset\\\\0006\\\\0006_0000565\\\\', 'F:/trainset/trainset\\\\0006\\\\0006_0000566\\\\', 'F:/trainset/trainset\\\\0006\\\\0006_0000567\\\\', 'F:/trainset/trainset\\\\0006\\\\0006_0000568\\\\', 'F:/trainset/trainset\\\\0006\\\\0006_0000570\\\\', 'F:/trainset/trainset\\\\0006\\\\0006_0000571\\\\', 'F:/trainset/trainset\\\\0006\\\\0006_0000575\\\\', 'F:/trainset/trainset\\\\0006\\\\0006_0000576\\\\', 'F:/trainset/trainset\\\\0006\\\\0006_0000577\\\\', 'F:/trainset/trainset\\\\0006\\\\0006_0000580\\\\', 'F:/trainset/trainset\\\\0006\\\\0006_0000582\\\\', 'F:/trainset/trainset\\\\0006\\\\0006_0000584\\\\', 'F:/trainset/trainset\\\\0006\\\\0006_0000588\\\\', 'F:/trainset/trainset\\\\0006\\\\0006_0000592\\\\', 'F:/trainset/trainset\\\\0006\\\\0006_0000595\\\\', 'F:/trainset/trainset\\\\0006\\\\0006_0000599\\\\', 'F:/trainset/trainset\\\\0006\\\\0006_0000600\\\\', 'F:/trainset/trainset\\\\0006\\\\0006_0000601\\\\', 'F:/trainset/trainset\\\\0006\\\\0006_0000602\\\\', 'F:/trainset/trainset\\\\0006\\\\0006_0000603\\\\', 'F:/trainset/trainset\\\\0006\\\\0006_0000606\\\\', 'F:/trainset/trainset\\\\0006\\\\0006_0000610\\\\', 'F:/trainset/trainset\\\\0006\\\\0006_0000613\\\\', 'F:/trainset/trainset\\\\0006\\\\0006_0000615\\\\', 'F:/trainset/trainset\\\\0006\\\\0006_0000619\\\\', 'F:/trainset/trainset\\\\0006\\\\0006_0000620\\\\', 'F:/trainset/trainset\\\\0006\\\\0006_0000621\\\\', 'F:/trainset/trainset\\\\0006\\\\0006_0000625\\\\', 'F:/trainset/trainset\\\\0006\\\\0006_0000626\\\\', 'F:/trainset/trainset\\\\0006\\\\0006_0000630\\\\', 'F:/trainset/trainset\\\\0006\\\\0006_0000631\\\\', 'F:/trainset/trainset\\\\0006\\\\0006_0000635\\\\', 'F:/trainset/trainset\\\\0006\\\\0006_0000636\\\\', 'F:/trainset/trainset\\\\0006\\\\0006_0000637\\\\', 'F:/trainset/trainset\\\\0007\\\\', 'F:/trainset/trainset\\\\0007\\\\0007_0000643\\\\', 'F:/trainset/trainset\\\\0007\\\\0007_0000644\\\\', 'F:/trainset/trainset\\\\0007\\\\0007_0000645\\\\', 'F:/trainset/trainset\\\\0007\\\\0007_0000646\\\\', 'F:/trainset/trainset\\\\0007\\\\0007_0000647\\\\', 'F:/trainset/trainset\\\\0007\\\\0007_0000648\\\\', 'F:/trainset/trainset\\\\0007\\\\0007_0000649\\\\', 'F:/trainset/trainset\\\\0007\\\\0007_0000650\\\\', 'F:/trainset/trainset\\\\0007\\\\0007_0000655\\\\', 'F:/trainset/trainset\\\\0007\\\\0007_0000658\\\\', 'F:/trainset/trainset\\\\0007\\\\0007_0000660\\\\', 'F:/trainset/trainset\\\\0007\\\\0007_0000661\\\\', 'F:/trainset/trainset\\\\0007\\\\0007_0000662\\\\', 'F:/trainset/trainset\\\\0007\\\\0007_0000665\\\\', 'F:/trainset/trainset\\\\0007\\\\0007_0000666\\\\', 'F:/trainset/trainset\\\\0007\\\\0007_0000667\\\\', 'F:/trainset/trainset\\\\0007\\\\0007_0000671\\\\', 'F:/trainset/trainset\\\\0007\\\\0007_0000672\\\\', 'F:/trainset/trainset\\\\0007\\\\0007_0000674\\\\', 'F:/trainset/trainset\\\\0007\\\\0007_0000675\\\\', 'F:/trainset/trainset\\\\0007\\\\0007_0000676\\\\', 'F:/trainset/trainset\\\\0007\\\\0007_0000677\\\\', 'F:/trainset/trainset\\\\0007\\\\0007_0000678\\\\', 'F:/trainset/trainset\\\\0007\\\\0007_0000679\\\\', 'F:/trainset/trainset\\\\0007\\\\0007_0000682\\\\', 'F:/trainset/trainset\\\\0007\\\\0007_0000685\\\\', 'F:/trainset/trainset\\\\0007\\\\0007_0000686\\\\', 'F:/trainset/trainset\\\\0007\\\\0007_0000688\\\\', 'F:/trainset/trainset\\\\0007\\\\0007_0000689\\\\', 'F:/trainset/trainset\\\\0007\\\\0007_0000691\\\\', 'F:/trainset/trainset\\\\0007\\\\0007_0000692\\\\', 'F:/trainset/trainset\\\\0007\\\\0007_0000693\\\\', 'F:/trainset/trainset\\\\0007\\\\0007_0000694\\\\', 'F:/trainset/trainset\\\\0007\\\\0007_0000701\\\\', 'F:/trainset/trainset\\\\0007\\\\0007_0000703\\\\', 'F:/trainset/trainset\\\\0007\\\\0007_0000704\\\\', 'F:/trainset/trainset\\\\0007\\\\0007_0000705\\\\', 'F:/trainset/trainset\\\\0007\\\\0007_0000708\\\\', 'F:/trainset/trainset\\\\0007\\\\0007_0000710\\\\', 'F:/trainset/trainset\\\\0007\\\\0007_0000711\\\\', 'F:/trainset/trainset\\\\0007\\\\0007_0000712\\\\', 'F:/trainset/trainset\\\\0007\\\\0007_0000713\\\\', 'F:/trainset/trainset\\\\0007\\\\0007_0000717\\\\', 'F:/trainset/trainset\\\\0007\\\\0007_0000719\\\\', 'F:/trainset/trainset\\\\0007\\\\0007_0000720\\\\', 'F:/trainset/trainset\\\\0007\\\\0007_0000721\\\\', 'F:/trainset/trainset\\\\0007\\\\0007_0000723\\\\', 'F:/trainset/trainset\\\\0007\\\\0007_0000724\\\\', 'F:/trainset/trainset\\\\0007\\\\0007_0000725\\\\', 'F:/trainset/trainset\\\\0007\\\\0007_0000726\\\\', 'F:/trainset/trainset\\\\0007\\\\0007_0000727\\\\', 'F:/trainset/trainset\\\\0007\\\\0007_0000730\\\\', 'F:/trainset/trainset\\\\0007\\\\0007_0000731\\\\', 'F:/trainset/trainset\\\\0007\\\\0007_0000732\\\\', 'F:/trainset/trainset\\\\0007\\\\0007_0000733\\\\', 'F:/trainset/trainset\\\\0007\\\\0007_0000734\\\\', 'F:/trainset/trainset\\\\0007\\\\0007_0000735\\\\', 'F:/trainset/trainset\\\\0007\\\\0007_0000736\\\\', 'F:/trainset/trainset\\\\0007\\\\0007_0000737\\\\', 'F:/trainset/trainset\\\\0007\\\\0007_0000738\\\\', 'F:/trainset/trainset\\\\0007\\\\0007_0000741\\\\', 'F:/trainset/trainset\\\\0007\\\\0007_0000743\\\\', 'F:/trainset/trainset\\\\0007\\\\0007_0000744\\\\', 'F:/trainset/trainset\\\\0007\\\\0007_0000745\\\\', 'F:/trainset/trainset\\\\0007\\\\0007_0000746\\\\', 'F:/trainset/trainset\\\\0007\\\\0007_0000747\\\\', 'F:/trainset/trainset\\\\0007\\\\0007_0000748\\\\', 'F:/trainset/trainset\\\\0007\\\\0007_0000751\\\\', 'F:/trainset/trainset\\\\0007\\\\0007_0000752\\\\', 'F:/trainset/trainset\\\\0007\\\\0007_0000757\\\\', 'F:/trainset/trainset\\\\0007\\\\0007_0000758\\\\', 'F:/trainset/trainset\\\\0007\\\\0007_0000759\\\\', 'F:/trainset/trainset\\\\0007\\\\0007_0000760\\\\', 'F:/trainset/trainset\\\\0007\\\\0007_0000761\\\\', 'F:/trainset/trainset\\\\0007\\\\0007_0000762\\\\', 'F:/trainset/trainset\\\\0007\\\\0007_0000763\\\\', 'F:/trainset/trainset\\\\0007\\\\0007_0000764\\\\', 'F:/trainset/trainset\\\\0007\\\\0007_0000766\\\\', 'F:/trainset/trainset\\\\0007\\\\0007_0000771\\\\', 'F:/trainset/trainset\\\\0007\\\\0007_0000773\\\\', 'F:/trainset/trainset\\\\0007\\\\0007_0000774\\\\', 'F:/trainset/trainset\\\\0007\\\\0007_0000776\\\\', 'F:/trainset/trainset\\\\0007\\\\0007_0000777\\\\', 'F:/trainset/trainset\\\\0007\\\\0007_0000779\\\\', 'F:/trainset/trainset\\\\0007\\\\0007_0000780\\\\', 'F:/trainset/trainset\\\\0007\\\\0007_0000781\\\\', 'F:/trainset/trainset\\\\0007\\\\0007_0000783\\\\', 'F:/trainset/trainset\\\\0007\\\\0007_0000786\\\\', 'F:/trainset/trainset\\\\0007\\\\0007_0000787\\\\', 'F:/trainset/trainset\\\\0007\\\\0007_0000788\\\\', 'F:/trainset/trainset\\\\0007\\\\0007_0000789\\\\', 'F:/trainset/trainset\\\\0007\\\\0007_0000791\\\\', 'F:/trainset/trainset\\\\0007\\\\0007_0000792\\\\', 'F:/trainset/trainset\\\\0007\\\\0007_0000794\\\\', 'F:/trainset/trainset\\\\0007\\\\0007_0000795\\\\', 'F:/trainset/trainset\\\\0007\\\\0007_0000796\\\\', 'F:/trainset/trainset\\\\0007\\\\0007_0000799\\\\', 'F:/trainset/trainset\\\\0007\\\\0007_0000802\\\\', 'F:/trainset/trainset\\\\0007\\\\0007_0000803\\\\', 'F:/trainset/trainset\\\\0007\\\\0007_0000804\\\\', 'F:/trainset/trainset\\\\0007\\\\0007_0000805\\\\', 'F:/trainset/trainset\\\\0007\\\\0007_0000806\\\\', 'F:/trainset/trainset\\\\0007\\\\0007_0000807\\\\', 'F:/trainset/trainset\\\\0007\\\\0007_0000808\\\\', 'F:/trainset/trainset\\\\0007\\\\0007_0000809\\\\', 'F:/trainset/trainset\\\\0007\\\\0007_0000815\\\\', 'F:/trainset/trainset\\\\0007\\\\0007_0000816\\\\', 'F:/trainset/trainset\\\\0007\\\\0007_0000817\\\\', 'F:/trainset/trainset\\\\0007\\\\0007_0000819\\\\', 'F:/trainset/trainset\\\\0007\\\\0007_0000822\\\\', 'F:/trainset/trainset\\\\0007\\\\0007_0000823\\\\', 'F:/trainset/trainset\\\\0007\\\\0007_0000825\\\\', 'F:/trainset/trainset\\\\0007\\\\0007_0000826\\\\', 'F:/trainset/trainset\\\\0007\\\\0007_0000827\\\\', 'F:/trainset/trainset\\\\0007\\\\0007_0000833\\\\', 'F:/trainset/trainset\\\\0007\\\\0007_0000835\\\\', 'F:/trainset/trainset\\\\0007\\\\0007_0000836\\\\', 'F:/trainset/trainset\\\\0007\\\\0007_0000837\\\\', 'F:/trainset/trainset\\\\0007\\\\0007_0000838\\\\', 'F:/trainset/trainset\\\\0007\\\\0007_0000839\\\\', 'F:/trainset/trainset\\\\0007\\\\0007_0000840\\\\', 'F:/trainset/trainset\\\\0007\\\\0007_0000842\\\\', 'F:/trainset/trainset\\\\0007\\\\0007_0000843\\\\', 'F:/trainset/trainset\\\\0007\\\\0007_0000849\\\\', 'F:/trainset/trainset\\\\0007\\\\0007_0000851\\\\', 'F:/trainset/trainset\\\\0007\\\\0007_0000852\\\\', 'F:/trainset/trainset\\\\0007\\\\0007_0000853\\\\', 'F:/trainset/trainset\\\\0007\\\\0007_0000854\\\\', 'F:/trainset/trainset\\\\0007\\\\0007_0000855\\\\', 'F:/trainset/trainset\\\\0007\\\\0007_0000856\\\\', 'F:/trainset/trainset\\\\0007\\\\0007_0000857\\\\', 'F:/trainset/trainset\\\\0007\\\\0007_0000858\\\\', 'F:/trainset/trainset\\\\0007\\\\0007_0000863\\\\', 'F:/trainset/trainset\\\\0007\\\\0007_0000865\\\\', 'F:/trainset/trainset\\\\0007\\\\0007_0000866\\\\', 'F:/trainset/trainset\\\\0007\\\\0007_0000867\\\\', 'F:/trainset/trainset\\\\0007\\\\0007_0000868\\\\', 'F:/trainset/trainset\\\\0007\\\\0007_0000869\\\\', 'F:/trainset/trainset\\\\0007\\\\0007_0000871\\\\', 'F:/trainset/trainset\\\\0007\\\\0007_0000872\\\\', 'F:/trainset/trainset\\\\0007\\\\0007_0000873\\\\', 'F:/trainset/trainset\\\\0007\\\\0007_0000876\\\\', 'F:/trainset/trainset\\\\0007\\\\0007_0000878\\\\', 'F:/trainset/trainset\\\\0007\\\\0007_0000879\\\\', 'F:/trainset/trainset\\\\0007\\\\0007_0000880\\\\', 'F:/trainset/trainset\\\\0007\\\\0007_0000881\\\\', 'F:/trainset/trainset\\\\0007\\\\0007_0000882\\\\', 'F:/trainset/trainset\\\\0007\\\\0007_0000883\\\\', 'F:/trainset/trainset\\\\0007\\\\0007_0000884\\\\', 'F:/trainset/trainset\\\\0007\\\\0007_0000886\\\\', 'F:/trainset/trainset\\\\0007\\\\0007_0000889\\\\', 'F:/trainset/trainset\\\\0007\\\\0007_0000890\\\\', 'F:/trainset/trainset\\\\0007\\\\0007_0000893\\\\', 'F:/trainset/trainset\\\\0007\\\\0007_0000894\\\\', 'F:/trainset/trainset\\\\0007\\\\0007_0000895\\\\', 'F:/trainset/trainset\\\\0007\\\\0007_0000896\\\\', 'F:/trainset/trainset\\\\0007\\\\0007_0000898\\\\', 'F:/trainset/trainset\\\\0007\\\\0007_0000901\\\\', 'F:/trainset/trainset\\\\0007\\\\0007_0000906\\\\', 'F:/trainset/trainset\\\\0007\\\\0007_0000907\\\\', 'F:/trainset/trainset\\\\0007\\\\0007_0000908\\\\', 'F:/trainset/trainset\\\\0007\\\\0007_0000910\\\\', 'F:/trainset/trainset\\\\0007\\\\0007_0000912\\\\', 'F:/trainset/trainset\\\\0007\\\\0007_0000913\\\\', 'F:/trainset/trainset\\\\0007\\\\0007_0000916\\\\', 'F:/trainset/trainset\\\\0007\\\\0007_0000917\\\\', 'F:/trainset/trainset\\\\0007\\\\0007_0000921\\\\', 'F:/trainset/trainset\\\\0007\\\\0007_0000922\\\\', 'F:/trainset/trainset\\\\0007\\\\0007_0000923\\\\', 'F:/trainset/trainset\\\\0007\\\\0007_0000924\\\\', 'F:/trainset/trainset\\\\0007\\\\0007_0000925\\\\', 'F:/trainset/trainset\\\\0007\\\\0007_0000927\\\\', 'F:/trainset/trainset\\\\0007\\\\0007_0000928\\\\', 'F:/trainset/trainset\\\\0007\\\\0007_0000932\\\\', 'F:/trainset/trainset\\\\0007\\\\0007_0000935\\\\', 'F:/trainset/trainset\\\\0007\\\\0007_0000936\\\\', 'F:/trainset/trainset\\\\0007\\\\0007_0000937\\\\', 'F:/trainset/trainset\\\\0007\\\\0007_0000938\\\\', 'F:/trainset/trainset\\\\0007\\\\0007_0000939\\\\', 'F:/trainset/trainset\\\\0007\\\\0007_0000940\\\\', 'F:/trainset/trainset\\\\0007\\\\0007_0000941\\\\', 'F:/trainset/trainset\\\\0007\\\\0007_0000942\\\\', 'F:/trainset/trainset\\\\0007\\\\0007_0000943\\\\', 'F:/trainset/trainset\\\\0007\\\\0007_0000946\\\\', 'F:/trainset/trainset\\\\0007\\\\0007_0000948\\\\', 'F:/trainset/trainset\\\\0007\\\\0007_0000949\\\\', 'F:/trainset/trainset\\\\0007\\\\0007_0000951\\\\', 'F:/trainset/trainset\\\\0007\\\\0007_0000953\\\\', 'F:/trainset/trainset\\\\0007\\\\0007_0000955\\\\', 'F:/trainset/trainset\\\\0007\\\\0007_0000956\\\\', 'F:/trainset/trainset\\\\0007\\\\0007_0000959\\\\', 'F:/trainset/trainset\\\\0007\\\\0007_0000960\\\\', 'F:/trainset/trainset\\\\0007\\\\0007_0000963\\\\', 'F:/trainset/trainset\\\\0007\\\\0007_0000964\\\\', 'F:/trainset/trainset\\\\0007\\\\0007_0000965\\\\', 'F:/trainset/trainset\\\\0007\\\\0007_0000967\\\\', 'F:/trainset/trainset\\\\0007\\\\0007_0000968\\\\', 'F:/trainset/trainset\\\\0007\\\\0007_0000969\\\\', 'F:/trainset/trainset\\\\0007\\\\0007_0000970\\\\', 'F:/trainset/trainset\\\\0007\\\\0007_0000972\\\\', 'F:/trainset/trainset\\\\0007\\\\0007_0000974\\\\', 'F:/trainset/trainset\\\\0007\\\\0007_0000977\\\\', 'F:/trainset/trainset\\\\0007\\\\0007_0000978\\\\', 'F:/trainset/trainset\\\\0007\\\\0007_0000979\\\\', 'F:/trainset/trainset\\\\0007\\\\0007_0000980\\\\', 'F:/trainset/trainset\\\\0007\\\\0007_0000981\\\\', 'F:/trainset/trainset\\\\0007\\\\0007_0000982\\\\', 'F:/trainset/trainset\\\\0007\\\\0007_0000985\\\\', 'F:/trainset/trainset\\\\0007\\\\0007_0000986\\\\', 'F:/trainset/trainset\\\\0007\\\\0007_0000988\\\\', 'F:/trainset/trainset\\\\0007\\\\0007_0000993\\\\', 'F:/trainset/trainset\\\\0007\\\\0007_0000994\\\\', 'F:/trainset/trainset\\\\0007\\\\0007_0000996\\\\', 'F:/trainset/trainset\\\\0007\\\\0007_0000998\\\\', 'F:/trainset/trainset\\\\0007\\\\0007_0000999\\\\', 'F:/trainset/trainset\\\\0007\\\\0007_0001001\\\\', 'F:/trainset/trainset\\\\0007\\\\0007_0001004\\\\', 'F:/trainset/trainset\\\\0007\\\\0007_0001005\\\\', 'F:/trainset/trainset\\\\0007\\\\0007_0001006\\\\', 'F:/trainset/trainset\\\\0007\\\\0007_0001011\\\\', 'F:/trainset/trainset\\\\0007\\\\0007_0001012\\\\', 'F:/trainset/trainset\\\\0007\\\\0007_0001013\\\\', 'F:/trainset/trainset\\\\0007\\\\0007_0001014\\\\', 'F:/trainset/trainset\\\\0007\\\\0007_0001015\\\\', 'F:/trainset/trainset\\\\0007\\\\0007_0001017\\\\', 'F:/trainset/trainset\\\\0007\\\\0007_0001018\\\\', 'F:/trainset/trainset\\\\0007\\\\0007_0001019\\\\', 'F:/trainset/trainset\\\\0007\\\\0007_0001021\\\\', 'F:/trainset/trainset\\\\0007\\\\0007_0001028\\\\', 'F:/trainset/trainset\\\\0007\\\\0007_0001029\\\\', 'F:/trainset/trainset\\\\0007\\\\0007_0001031\\\\', 'F:/trainset/trainset\\\\0007\\\\0007_0001032\\\\', 'F:/trainset/trainset\\\\0007\\\\0007_0001033\\\\', 'F:/trainset/trainset\\\\0007\\\\0007_0001034\\\\', 'F:/trainset/trainset\\\\0007\\\\0007_0001035\\\\', 'F:/trainset/trainset\\\\0007\\\\0007_0001036\\\\', 'F:/trainset/trainset\\\\0007\\\\0007_0001039\\\\', 'F:/trainset/trainset\\\\0007\\\\0007_0001043\\\\', 'F:/trainset/trainset\\\\0007\\\\0007_0001045\\\\', 'F:/trainset/trainset\\\\0007\\\\0007_0001046\\\\', 'F:/trainset/trainset\\\\0007\\\\0007_0001048\\\\', 'F:/trainset/trainset\\\\0007\\\\0007_0001050\\\\', 'F:/trainset/trainset\\\\0007\\\\0007_0001051\\\\', 'F:/trainset/trainset\\\\0007\\\\0007_0001052\\\\', 'F:/trainset/trainset\\\\0007\\\\0007_0001053\\\\', 'F:/trainset/trainset\\\\0007\\\\0007_0001054\\\\', 'F:/trainset/trainset\\\\0007\\\\0007_0001059\\\\', 'F:/trainset/trainset\\\\0007\\\\0007_0001060\\\\', 'F:/trainset/trainset\\\\0007\\\\0007_0001061\\\\', 'F:/trainset/trainset\\\\0007\\\\0007_0001063\\\\', 'F:/trainset/trainset\\\\0007\\\\0007_0001064\\\\', 'F:/trainset/trainset\\\\0007\\\\0007_0001066\\\\', 'F:/trainset/trainset\\\\0007\\\\0007_0001068\\\\', 'F:/trainset/trainset\\\\0007\\\\0007_0001069\\\\', 'F:/trainset/trainset\\\\0007\\\\0007_0001070\\\\', 'F:/trainset/trainset\\\\0007\\\\0007_0001073\\\\', 'F:/trainset/trainset\\\\0007\\\\0007_0001075\\\\', 'F:/trainset/trainset\\\\0007\\\\0007_0001076\\\\', 'F:/trainset/trainset\\\\0007\\\\0007_0001077\\\\', 'F:/trainset/trainset\\\\0007\\\\0007_0001078\\\\', 'F:/trainset/trainset\\\\0007\\\\0007_0001079\\\\', 'F:/trainset/trainset\\\\0007\\\\0007_0001080\\\\', 'F:/trainset/trainset\\\\0007\\\\0007_0001082\\\\', 'F:/trainset/trainset\\\\0007\\\\0007_0001083\\\\', 'F:/trainset/trainset\\\\0007\\\\0007_0001086\\\\', 'F:/trainset/trainset\\\\0007\\\\0007_0001087\\\\', 'F:/trainset/trainset\\\\0007\\\\0007_0001088\\\\', 'F:/trainset/trainset\\\\0007\\\\0007_0001089\\\\', 'F:/trainset/trainset\\\\0007\\\\0007_0001091\\\\', 'F:/trainset/trainset\\\\0007\\\\0007_0001092\\\\', 'F:/trainset/trainset\\\\0007\\\\0007_0001093\\\\', 'F:/trainset/trainset\\\\0007\\\\0007_0001098\\\\', 'F:/trainset/trainset\\\\0007\\\\0007_0001100\\\\', 'F:/trainset/trainset\\\\0007\\\\0007_0001104\\\\', 'F:/trainset/trainset\\\\0007\\\\0007_0001105\\\\', 'F:/trainset/trainset\\\\0007\\\\0007_0001107\\\\', 'F:/trainset/trainset\\\\0007\\\\0007_0001108\\\\', 'F:/trainset/trainset\\\\0007\\\\0007_0001110\\\\', 'F:/trainset/trainset\\\\0007\\\\0007_0001111\\\\', 'F:/trainset/trainset\\\\0007\\\\0007_0001112\\\\', 'F:/trainset/trainset\\\\0007\\\\0007_0001113\\\\', 'F:/trainset/trainset\\\\0007\\\\0007_0001115\\\\', 'F:/trainset/trainset\\\\0007\\\\0007_0001118\\\\', 'F:/trainset/trainset\\\\0007\\\\0007_0001119\\\\', 'F:/trainset/trainset\\\\0007\\\\0007_0001121\\\\', 'F:/trainset/trainset\\\\0007\\\\0007_0001122\\\\', 'F:/trainset/trainset\\\\0007\\\\0007_0001123\\\\', 'F:/trainset/trainset\\\\0007\\\\0007_0001124\\\\', 'F:/trainset/trainset\\\\0007\\\\0007_0001125\\\\', 'F:/trainset/trainset\\\\0007\\\\0007_0001126\\\\', 'F:/trainset/trainset\\\\0007\\\\0007_0001127\\\\', 'F:/trainset/trainset\\\\0007\\\\0007_0001130\\\\', 'F:/trainset/trainset\\\\0007\\\\0007_0001131\\\\', 'F:/trainset/trainset\\\\0007\\\\0007_0001132\\\\', 'F:/trainset/trainset\\\\0007\\\\0007_0001134\\\\', 'F:/trainset/trainset\\\\0007\\\\0007_0001135\\\\', 'F:/trainset/trainset\\\\0007\\\\0007_0001136\\\\', 'F:/trainset/trainset\\\\0007\\\\0007_0001137\\\\', 'F:/trainset/trainset\\\\0007\\\\0007_0001138\\\\', 'F:/trainset/trainset\\\\0007\\\\0007_0001139\\\\', 'F:/trainset/trainset\\\\0007\\\\0007_0001143\\\\', 'F:/trainset/trainset\\\\0007\\\\0007_0001144\\\\', 'F:/trainset/trainset\\\\0007\\\\0007_0001145\\\\', 'F:/trainset/trainset\\\\0007\\\\0007_0001146\\\\', 'F:/trainset/trainset\\\\0007\\\\0007_0001149\\\\', 'F:/trainset/trainset\\\\0007\\\\0007_0001151\\\\', 'F:/trainset/trainset\\\\0007\\\\0007_0001152\\\\', 'F:/trainset/trainset\\\\0007\\\\0007_0001153\\\\', 'F:/trainset/trainset\\\\0007\\\\0007_0001154\\\\', 'F:/trainset/trainset\\\\0007\\\\0007_0001157\\\\', 'F:/trainset/trainset\\\\0007\\\\0007_0001158\\\\', 'F:/trainset/trainset\\\\0007\\\\0007_0001159\\\\', 'F:/trainset/trainset\\\\0007\\\\0007_0001160\\\\', 'F:/trainset/trainset\\\\0007\\\\0007_0001161\\\\', 'F:/trainset/trainset\\\\0007\\\\0007_0001162\\\\', 'F:/trainset/trainset\\\\0007\\\\0007_0001164\\\\', 'F:/trainset/trainset\\\\0007\\\\0007_0001165\\\\', 'F:/trainset/trainset\\\\0007\\\\0007_0001168\\\\', 'F:/trainset/trainset\\\\0007\\\\0007_0001169\\\\', 'F:/trainset/trainset\\\\0007\\\\0007_0001170\\\\', 'F:/trainset/trainset\\\\0007\\\\0007_0001171\\\\', 'F:/trainset/trainset\\\\0007\\\\0007_0001172\\\\', 'F:/trainset/trainset\\\\0007\\\\0007_0001173\\\\', 'F:/trainset/trainset\\\\0007\\\\0007_0001174\\\\', 'F:/trainset/trainset\\\\0007\\\\0007_0001175\\\\', 'F:/trainset/trainset\\\\0007\\\\0007_0001176\\\\', 'F:/trainset/trainset\\\\0007\\\\0007_0001179\\\\', 'F:/trainset/trainset\\\\0007\\\\0007_0001181\\\\', 'F:/trainset/trainset\\\\0007\\\\0007_0001182\\\\', 'F:/trainset/trainset\\\\0007\\\\0007_0001184\\\\', 'F:/trainset/trainset\\\\0007\\\\0007_0001185\\\\', 'F:/trainset/trainset\\\\0007\\\\0007_0001187\\\\', 'F:/trainset/trainset\\\\0007\\\\0007_0001188\\\\', 'F:/trainset/trainset\\\\0007\\\\0007_0001189\\\\', 'F:/trainset/trainset\\\\0007\\\\0007_0001193\\\\', 'F:/trainset/trainset\\\\0007\\\\0007_0001195\\\\', 'F:/trainset/trainset\\\\0007\\\\0007_0001196\\\\', 'F:/trainset/trainset\\\\0007\\\\0007_0001197\\\\', 'F:/trainset/trainset\\\\0007\\\\0007_0001200\\\\', 'F:/trainset/trainset\\\\0007\\\\0007_0001201\\\\', 'F:/trainset/trainset\\\\0007\\\\0007_0001204\\\\', 'F:/trainset/trainset\\\\0007\\\\0007_0001207\\\\', 'F:/trainset/trainset\\\\0007\\\\0007_0001211\\\\', 'F:/trainset/trainset\\\\0007\\\\0007_0001214\\\\', 'F:/trainset/trainset\\\\0007\\\\0007_0001215\\\\', 'F:/trainset/trainset\\\\0007\\\\0007_0001216\\\\', 'F:/trainset/trainset\\\\0007\\\\0007_0001218\\\\', 'F:/trainset/trainset\\\\0007\\\\0007_0001220\\\\', 'F:/trainset/trainset\\\\0007\\\\0007_0001221\\\\', 'F:/trainset/trainset\\\\0007\\\\0007_0001222\\\\', 'F:/trainset/trainset\\\\0007\\\\0007_0001223\\\\', 'F:/trainset/trainset\\\\0007\\\\0007_0001229\\\\', 'F:/trainset/trainset\\\\0007\\\\0007_0001230\\\\', 'F:/trainset/trainset\\\\0007\\\\0007_0001231\\\\', 'F:/trainset/trainset\\\\0007\\\\0007_0001233\\\\', 'F:/trainset/trainset\\\\0007\\\\0007_0001238\\\\', 'F:/trainset/trainset\\\\0007\\\\0007_0001239\\\\', 'F:/trainset/trainset\\\\0007\\\\0007_0001240\\\\', 'F:/trainset/trainset\\\\0007\\\\0007_0001241\\\\', 'F:/trainset/trainset\\\\0007\\\\0007_0001242\\\\', 'F:/trainset/trainset\\\\0007\\\\0007_0001246\\\\', 'F:/trainset/trainset\\\\0007\\\\0007_0001248\\\\', 'F:/trainset/trainset\\\\0007\\\\0007_0001249\\\\', 'F:/trainset/trainset\\\\0007\\\\0007_0001250\\\\', 'F:/trainset/trainset\\\\0007\\\\0007_0001252\\\\', 'F:/trainset/trainset\\\\0007\\\\0007_0001253\\\\', 'F:/trainset/trainset\\\\0007\\\\0007_0001254\\\\', 'F:/trainset/trainset\\\\0007\\\\0007_0001255\\\\', 'F:/trainset/trainset\\\\0007\\\\0007_0001256\\\\', 'F:/trainset/trainset\\\\0007\\\\0007_0001259\\\\', 'F:/trainset/trainset\\\\0007\\\\0007_0001260\\\\', 'F:/trainset/trainset\\\\0007\\\\0007_0001262\\\\', 'F:/trainset/trainset\\\\0007\\\\0007_0001264\\\\', 'F:/trainset/trainset\\\\0007\\\\0007_0001266\\\\', 'F:/trainset/trainset\\\\0007\\\\0007_0001267\\\\', 'F:/trainset/trainset\\\\0007\\\\0007_0001268\\\\', 'F:/trainset/trainset\\\\0007\\\\0007_0001269\\\\', 'F:/trainset/trainset\\\\0007\\\\0007_0001270\\\\', 'F:/trainset/trainset\\\\0007\\\\0007_0001275\\\\', 'F:/trainset/trainset\\\\0007\\\\0007_0001278\\\\', 'F:/trainset/trainset\\\\0007\\\\0007_0001279\\\\', 'F:/trainset/trainset\\\\0007\\\\0007_0001280\\\\', 'F:/trainset/trainset\\\\0007\\\\0007_0001281\\\\', 'F:/trainset/trainset\\\\0007\\\\0007_0001282\\\\', 'F:/trainset/trainset\\\\0007\\\\0007_0001283\\\\', 'F:/trainset/trainset\\\\0007\\\\0007_0001284\\\\', 'F:/trainset/trainset\\\\0007\\\\0007_0001285\\\\', 'F:/trainset/trainset\\\\0007\\\\0007_0001288\\\\', 'F:/trainset/trainset\\\\0007\\\\0007_0001289\\\\', 'F:/trainset/trainset\\\\0007\\\\0007_0001290\\\\', 'F:/trainset/trainset\\\\0007\\\\0007_0001291\\\\', 'F:/trainset/trainset\\\\0007\\\\0007_0001293\\\\', 'F:/trainset/trainset\\\\0007\\\\0007_0001296\\\\', 'F:/trainset/trainset\\\\0007\\\\0007_0001297\\\\', 'F:/trainset/trainset\\\\0007\\\\0007_0001298\\\\', 'F:/trainset/trainset\\\\0007\\\\0007_0001302\\\\', 'F:/trainset/trainset\\\\0007\\\\0007_0001303\\\\', 'F:/trainset/trainset\\\\0007\\\\0007_0001304\\\\', 'F:/trainset/trainset\\\\0007\\\\0007_0001305\\\\', 'F:/trainset/trainset\\\\0007\\\\0007_0001306\\\\', 'F:/trainset/trainset\\\\0007\\\\0007_0001307\\\\', 'F:/trainset/trainset\\\\0007\\\\0007_0001309\\\\', 'F:/trainset/trainset\\\\0007\\\\0007_0001310\\\\', 'F:/trainset/trainset\\\\0007\\\\0007_0001312\\\\', 'F:/trainset/trainset\\\\0007\\\\0007_0001315\\\\', 'F:/trainset/trainset\\\\0007\\\\0007_0001317\\\\', 'F:/trainset/trainset\\\\0007\\\\0007_0001318\\\\', 'F:/trainset/trainset\\\\0007\\\\0007_0001319\\\\', 'F:/trainset/trainset\\\\0007\\\\0007_0001320\\\\', 'F:/trainset/trainset\\\\0007\\\\0007_0001321\\\\', 'F:/trainset/trainset\\\\0007\\\\0007_0001322\\\\', 'F:/trainset/trainset\\\\0007\\\\0007_0001323\\\\', 'F:/trainset/trainset\\\\0007\\\\0007_0001324\\\\', 'F:/trainset/trainset\\\\0007\\\\0007_0001328\\\\', 'F:/trainset/trainset\\\\0007\\\\0007_0001329\\\\', 'F:/trainset/trainset\\\\0007\\\\0007_0001330\\\\', 'F:/trainset/trainset\\\\0007\\\\0007_0001331\\\\', 'F:/trainset/trainset\\\\0007\\\\0007_0001332\\\\', 'F:/trainset/trainset\\\\0007\\\\0007_0001333\\\\', 'F:/trainset/trainset\\\\0007\\\\0007_0001334\\\\', 'F:/trainset/trainset\\\\0007\\\\0007_0001337\\\\', 'F:/trainset/trainset\\\\0007\\\\0007_0001338\\\\', 'F:/trainset/trainset\\\\0007\\\\0007_0001342\\\\', 'F:/trainset/trainset\\\\0007\\\\0007_0001344\\\\', 'F:/trainset/trainset\\\\0007\\\\0007_0001345\\\\', 'F:/trainset/trainset\\\\0007\\\\0007_0001347\\\\', 'F:/trainset/trainset\\\\0007\\\\0007_0001348\\\\', 'F:/trainset/trainset\\\\0007\\\\0007_0001350\\\\', 'F:/trainset/trainset\\\\0007\\\\0007_0001351\\\\', 'F:/trainset/trainset\\\\0007\\\\0007_0001352\\\\', 'F:/trainset/trainset\\\\0007\\\\0007_0001353\\\\', 'F:/trainset/trainset\\\\0007\\\\0007_0001356\\\\', 'F:/trainset/trainset\\\\0007\\\\0007_0001357\\\\', 'F:/trainset/trainset\\\\0007\\\\0007_0001358\\\\', 'F:/trainset/trainset\\\\0007\\\\0007_0001360\\\\', 'F:/trainset/trainset\\\\0007\\\\0007_0001361\\\\', 'F:/trainset/trainset\\\\0007\\\\0007_0001363\\\\', 'F:/trainset/trainset\\\\0007\\\\0007_0001364\\\\', 'F:/trainset/trainset\\\\0007\\\\0007_0001367\\\\', 'F:/trainset/trainset\\\\0007\\\\0007_0001368\\\\', 'F:/trainset/trainset\\\\0007\\\\0007_0001374\\\\', 'F:/trainset/trainset\\\\0007\\\\0007_0001375\\\\', 'F:/trainset/trainset\\\\0007\\\\0007_0001376\\\\', 'F:/trainset/trainset\\\\0007\\\\0007_0001377\\\\', 'F:/trainset/trainset\\\\0007\\\\0007_0001378\\\\', 'F:/trainset/trainset\\\\0007\\\\0007_0001379\\\\', 'F:/trainset/trainset\\\\0007\\\\0007_0001380\\\\', 'F:/trainset/trainset\\\\0007\\\\0007_0001383\\\\', 'F:/trainset/trainset\\\\0007\\\\0007_0001385\\\\', 'F:/trainset/trainset\\\\0007\\\\0007_0001391\\\\', 'F:/trainset/trainset\\\\0007\\\\0007_0001392\\\\', 'F:/trainset/trainset\\\\0007\\\\0007_0001393\\\\', 'F:/trainset/trainset\\\\0007\\\\0007_0001394\\\\', 'F:/trainset/trainset\\\\0007\\\\0007_0001395\\\\', 'F:/trainset/trainset\\\\0007\\\\0007_0001396\\\\', 'F:/trainset/trainset\\\\0007\\\\0007_0001397\\\\', 'F:/trainset/trainset\\\\0007\\\\0007_0001399\\\\', 'F:/trainset/trainset\\\\0007\\\\0007_0001401\\\\', 'F:/trainset/trainset\\\\0007\\\\0007_0001405\\\\', 'F:/trainset/trainset\\\\0007\\\\0007_0001406\\\\', 'F:/trainset/trainset\\\\0007\\\\0007_0001407\\\\', 'F:/trainset/trainset\\\\0007\\\\0007_0001408\\\\', 'F:/trainset/trainset\\\\0007\\\\0007_0001409\\\\', 'F:/trainset/trainset\\\\0007\\\\0007_0001410\\\\', 'F:/trainset/trainset\\\\0007\\\\0007_0001412\\\\', 'F:/trainset/trainset\\\\0007\\\\0007_0001413\\\\', 'F:/trainset/trainset\\\\0007\\\\0007_0001415\\\\', 'F:/trainset/trainset\\\\0007\\\\0007_0001418\\\\', 'F:/trainset/trainset\\\\0007\\\\0007_0001419\\\\', 'F:/trainset/trainset\\\\0007\\\\0007_0001420\\\\', 'F:/trainset/trainset\\\\0007\\\\0007_0001421\\\\', 'F:/trainset/trainset\\\\0007\\\\0007_0001422\\\\', 'F:/trainset/trainset\\\\0007\\\\0007_0001423\\\\', 'F:/trainset/trainset\\\\0007\\\\0007_0001424\\\\', 'F:/trainset/trainset\\\\0007\\\\0007_0001425\\\\', 'F:/trainset/trainset\\\\0007\\\\0007_0001427\\\\', 'F:/trainset/trainset\\\\0007\\\\0007_0001432\\\\', 'F:/trainset/trainset\\\\0007\\\\0007_0001433\\\\', 'F:/trainset/trainset\\\\0007\\\\0007_0001434\\\\', 'F:/trainset/trainset\\\\0007\\\\0007_0001436\\\\', 'F:/trainset/trainset\\\\0007\\\\0007_0001437\\\\', 'F:/trainset/trainset\\\\0007\\\\0007_0001438\\\\', 'F:/trainset/trainset\\\\0007\\\\0007_0001441\\\\', 'F:/trainset/trainset\\\\0007\\\\0007_0001443\\\\', 'F:/trainset/trainset\\\\0007\\\\0007_0001444\\\\', 'F:/trainset/trainset\\\\0008\\\\', 'F:/trainset/trainset\\\\0008\\\\0008_0001449\\\\', 'F:/trainset/trainset\\\\0008\\\\0008_0001461\\\\', 'F:/trainset/trainset\\\\0008\\\\0008_0001463\\\\', 'F:/trainset/trainset\\\\0008\\\\0008_0001469\\\\', 'F:/trainset/trainset\\\\0008\\\\0008_0001502\\\\', 'F:/trainset/trainset\\\\0008\\\\0008_0001503\\\\', 'F:/trainset/trainset\\\\0008\\\\0008_0001524\\\\', 'F:/trainset/trainset\\\\0009\\\\', 'F:/trainset/trainset\\\\0009\\\\0009_0001530\\\\', 'F:/trainset/trainset\\\\0009\\\\0009_0001532\\\\', 'F:/trainset/trainset\\\\0009\\\\0009_0001543\\\\', 'F:/trainset/trainset\\\\0009\\\\0009_0001545\\\\', 'F:/trainset/trainset\\\\0009\\\\0009_0001549\\\\', 'F:/trainset/trainset\\\\0009\\\\0009_0001552\\\\', 'F:/trainset/trainset\\\\0009\\\\0009_0001558\\\\', 'F:/trainset/trainset\\\\0009\\\\0009_0001561\\\\', 'F:/trainset/trainset\\\\0009\\\\0009_0001569\\\\', 'F:/trainset/trainset\\\\0009\\\\0009_0001570\\\\', 'F:/trainset/trainset\\\\0009\\\\0009_0001578\\\\', 'F:/trainset/trainset\\\\0009\\\\0009_0001581\\\\', 'F:/trainset/trainset\\\\0009\\\\0009_0001587\\\\', 'F:/trainset/trainset\\\\0010\\\\', 'F:/trainset/trainset\\\\0010\\\\0010_0001593\\\\', 'F:/trainset/trainset\\\\0010\\\\0010_0001595\\\\', 'F:/trainset/trainset\\\\0010\\\\0010_0001601\\\\', 'F:/trainset/trainset\\\\0010\\\\0010_0001605\\\\', 'F:/trainset/trainset\\\\0010\\\\0010_0001608\\\\', 'F:/trainset/trainset\\\\0010\\\\0010_0001613\\\\', 'F:/trainset/trainset\\\\0010\\\\0010_0001614\\\\', 'F:/trainset/trainset\\\\0010\\\\0010_0001619\\\\', 'F:/trainset/trainset\\\\0010\\\\0010_0001632\\\\', 'F:/trainset/trainset\\\\0010\\\\0010_0001633\\\\', 'F:/trainset/trainset\\\\0010\\\\0010_0001636\\\\', 'F:/trainset/trainset\\\\0010\\\\0010_0001638\\\\', 'F:/trainset/trainset\\\\0010\\\\0010_0001643\\\\', 'F:/trainset/trainset\\\\0012\\\\', 'F:/trainset/trainset\\\\0012\\\\0012_0001655\\\\', 'F:/trainset/trainset\\\\0012\\\\0012_0001656\\\\', 'F:/trainset/trainset\\\\0012\\\\0012_0001660\\\\', 'F:/trainset/trainset\\\\0012\\\\0012_0001665\\\\', 'F:/trainset/trainset\\\\0012\\\\0012_0001673\\\\', 'F:/trainset/trainset\\\\0012\\\\0012_0001677\\\\', 'F:/trainset/trainset\\\\0012\\\\0012_0001680\\\\', 'F:/trainset/trainset\\\\0012\\\\0012_0001682\\\\', 'F:/trainset/trainset\\\\0012\\\\0012_0001685\\\\', 'F:/trainset/trainset\\\\0012\\\\0012_0001686\\\\', 'F:/trainset/trainset\\\\0012\\\\0012_0001687\\\\', 'F:/trainset/trainset\\\\0012\\\\0012_0001688\\\\', 'F:/trainset/trainset\\\\0012\\\\0012_0001691\\\\', 'F:/trainset/trainset\\\\0012\\\\0012_0001695\\\\', 'F:/trainset/trainset\\\\0012\\\\0012_0001696\\\\', 'F:/trainset/trainset\\\\0012\\\\0012_0001699\\\\', 'F:/trainset/trainset\\\\0012\\\\0012_0001700\\\\', 'F:/trainset/trainset\\\\0013\\\\', 'F:/trainset/trainset\\\\0013\\\\0013_0001701\\\\', 'F:/trainset/trainset\\\\0013\\\\0013_0001703\\\\', 'F:/trainset/trainset\\\\0013\\\\0013_0001705\\\\', 'F:/trainset/trainset\\\\0013\\\\0013_0001706\\\\', 'F:/trainset/trainset\\\\0013\\\\0013_0001707\\\\', 'F:/trainset/trainset\\\\0013\\\\0013_0001709\\\\', 'F:/trainset/trainset\\\\0013\\\\0013_0001711\\\\', 'F:/trainset/trainset\\\\0013\\\\0013_0001713\\\\', 'F:/trainset/trainset\\\\0013\\\\0013_0001723\\\\', 'F:/trainset/trainset\\\\0013\\\\0013_0001724\\\\', 'F:/trainset/trainset\\\\0013\\\\0013_0001725\\\\', 'F:/trainset/trainset\\\\0013\\\\0013_0001726\\\\', 'F:/trainset/trainset\\\\0013\\\\0013_0001728\\\\', 'F:/trainset/trainset\\\\0013\\\\0013_0001730\\\\', 'F:/trainset/trainset\\\\0013\\\\0013_0001732\\\\', 'F:/trainset/trainset\\\\0013\\\\0013_0001734\\\\', 'F:/trainset/trainset\\\\0013\\\\0013_0001739\\\\', 'F:/trainset/trainset\\\\0013\\\\0013_0001741\\\\', 'F:/trainset/trainset\\\\0013\\\\0013_0001743\\\\', 'F:/trainset/trainset\\\\0013\\\\0013_0001744\\\\', 'F:/trainset/trainset\\\\0013\\\\0013_0001745\\\\', 'F:/trainset/trainset\\\\0013\\\\0013_0001749\\\\', 'F:/trainset/trainset\\\\0013\\\\0013_0001750\\\\', 'F:/trainset/trainset\\\\0013\\\\0013_0001751\\\\', 'F:/trainset/trainset\\\\0013\\\\0013_0001756\\\\', 'F:/trainset/trainset\\\\0013\\\\0013_0001759\\\\', 'F:/trainset/trainset\\\\0013\\\\0013_0001760\\\\', 'F:/trainset/trainset\\\\0013\\\\0013_0001761\\\\', 'F:/trainset/trainset\\\\0013\\\\0013_0001767\\\\', 'F:/trainset/trainset\\\\0013\\\\0013_0001768\\\\', 'F:/trainset/trainset\\\\0013\\\\0013_0001770\\\\', 'F:/trainset/trainset\\\\0013\\\\0013_0001771\\\\', 'F:/trainset/trainset\\\\0013\\\\0013_0001775\\\\', 'F:/trainset/trainset\\\\0013\\\\0013_0001776\\\\', 'F:/trainset/trainset\\\\0013\\\\0013_0001779\\\\', 'F:/trainset/trainset\\\\0013\\\\0013_0001781\\\\', 'F:/trainset/trainset\\\\0013\\\\0013_0001782\\\\', 'F:/trainset/trainset\\\\0013\\\\0013_0001783\\\\', 'F:/trainset/trainset\\\\0013\\\\0013_0001784\\\\', 'F:/trainset/trainset\\\\0013\\\\0013_0001785\\\\', 'F:/trainset/trainset\\\\0013\\\\0013_0001789\\\\', 'F:/trainset/trainset\\\\0013\\\\0013_0001791\\\\', 'F:/trainset/trainset\\\\0013\\\\0013_0001795\\\\', 'F:/trainset/trainset\\\\0013\\\\0013_0001796\\\\', 'F:/trainset/trainset\\\\0013\\\\0013_0001797\\\\', 'F:/trainset/trainset\\\\0013\\\\0013_0001799\\\\', 'F:/trainset/trainset\\\\0013\\\\0013_0001800\\\\', 'F:/trainset/trainset\\\\0013\\\\0013_0001802\\\\', 'F:/trainset/trainset\\\\0013\\\\0013_0001807\\\\', 'F:/trainset/trainset\\\\0013\\\\0013_0001809\\\\', 'F:/trainset/trainset\\\\0013\\\\0013_0001810\\\\', 'F:/trainset/trainset\\\\0013\\\\0013_0001812\\\\', 'F:/trainset/trainset\\\\0013\\\\0013_0001814\\\\', 'F:/trainset/trainset\\\\0013\\\\0013_0001815\\\\', 'F:/trainset/trainset\\\\0013\\\\0013_0001817\\\\', 'F:/trainset/trainset\\\\0013\\\\0013_0001818\\\\', 'F:/trainset/trainset\\\\0013\\\\0013_0001827\\\\', 'F:/trainset/trainset\\\\0013\\\\0013_0001829\\\\', 'F:/trainset/trainset\\\\0013\\\\0013_0001830\\\\', 'F:/trainset/trainset\\\\0013\\\\0013_0001831\\\\', 'F:/trainset/trainset\\\\0013\\\\0013_0001833\\\\', 'F:/trainset/trainset\\\\0013\\\\0013_0001834\\\\', 'F:/trainset/trainset\\\\0013\\\\0013_0001836\\\\', 'F:/trainset/trainset\\\\0013\\\\0013_0001840\\\\', 'F:/trainset/trainset\\\\0013\\\\0013_0001843\\\\', 'F:/trainset/trainset\\\\0013\\\\0013_0001847\\\\', 'F:/trainset/trainset\\\\0013\\\\0013_0001848\\\\', 'F:/trainset/trainset\\\\0013\\\\0013_0001849\\\\', 'F:/trainset/trainset\\\\0013\\\\0013_0001850\\\\', 'F:/trainset/trainset\\\\0013\\\\0013_0001851\\\\', 'F:/trainset/trainset\\\\0013\\\\0013_0001852\\\\', 'F:/trainset/trainset\\\\0013\\\\0013_0001855\\\\', 'F:/trainset/trainset\\\\0013\\\\0013_0001859\\\\', 'F:/trainset/trainset\\\\0013\\\\0013_0001866\\\\', 'F:/trainset/trainset\\\\0013\\\\0013_0001868\\\\', 'F:/trainset/trainset\\\\0013\\\\0013_0001869\\\\', 'F:/trainset/trainset\\\\0013\\\\0013_0001870\\\\', 'F:/trainset/trainset\\\\0013\\\\0013_0001871\\\\', 'F:/trainset/trainset\\\\0013\\\\0013_0001872\\\\', 'F:/trainset/trainset\\\\0013\\\\0013_0001873\\\\', 'F:/trainset/trainset\\\\0013\\\\0013_0001877\\\\', 'F:/trainset/trainset\\\\0013\\\\0013_0001880\\\\', 'F:/trainset/trainset\\\\0013\\\\0013_0001886\\\\', 'F:/trainset/trainset\\\\0013\\\\0013_0001888\\\\', 'F:/trainset/trainset\\\\0013\\\\0013_0001889\\\\', 'F:/trainset/trainset\\\\0013\\\\0013_0001890\\\\', 'F:/trainset/trainset\\\\0013\\\\0013_0001892\\\\', 'F:/trainset/trainset\\\\0013\\\\0013_0001896\\\\', 'F:/trainset/trainset\\\\0013\\\\0013_0001899\\\\', 'F:/trainset/trainset\\\\0013\\\\0013_0001901\\\\', 'F:/trainset/trainset\\\\0013\\\\0013_0001904\\\\', 'F:/trainset/trainset\\\\0013\\\\0013_0001914\\\\', 'F:/trainset/trainset\\\\0013\\\\0013_0001915\\\\', 'F:/trainset/trainset\\\\0013\\\\0013_0001916\\\\', 'F:/trainset/trainset\\\\0013\\\\0013_0001921\\\\', 'F:/trainset/trainset\\\\0013\\\\0013_0001922\\\\', 'F:/trainset/trainset\\\\0013\\\\0013_0001924\\\\', 'F:/trainset/trainset\\\\0013\\\\0013_0001926\\\\', 'F:/trainset/trainset\\\\0013\\\\0013_0001927\\\\', 'F:/trainset/trainset\\\\0013\\\\0013_0001928\\\\', 'F:/trainset/trainset\\\\0013\\\\0013_0001933\\\\', 'F:/trainset/trainset\\\\0013\\\\0013_0001934\\\\', 'F:/trainset/trainset\\\\0013\\\\0013_0001935\\\\', 'F:/trainset/trainset\\\\0013\\\\0013_0001941\\\\', 'F:/trainset/trainset\\\\0013\\\\0013_0001942\\\\', 'F:/trainset/trainset\\\\0013\\\\0013_0001947\\\\', 'F:/trainset/trainset\\\\0013\\\\0013_0001949\\\\', 'F:/trainset/trainset\\\\0013\\\\0013_0001950\\\\', 'F:/trainset/trainset\\\\0013\\\\0013_0001954\\\\', 'F:/trainset/trainset\\\\0013\\\\0013_0001966\\\\', 'F:/trainset/trainset\\\\0013\\\\0013_0001967\\\\', 'F:/trainset/trainset\\\\0013\\\\0013_0001968\\\\', 'F:/trainset/trainset\\\\0013\\\\0013_0001970\\\\', 'F:/trainset/trainset\\\\0013\\\\0013_0001972\\\\', 'F:/trainset/trainset\\\\0013\\\\0013_0001977\\\\', 'F:/trainset/trainset\\\\0013\\\\0013_0001979\\\\', 'F:/trainset/trainset\\\\0013\\\\0013_0001980\\\\', 'F:/trainset/trainset\\\\0013\\\\0013_0001981\\\\', 'F:/trainset/trainset\\\\0013\\\\0013_0001987\\\\', 'F:/trainset/trainset\\\\0013\\\\0013_0001991\\\\', 'F:/trainset/trainset\\\\0013\\\\0013_0001992\\\\', 'F:/trainset/trainset\\\\0013\\\\0013_0001993\\\\', 'F:/trainset/trainset\\\\0013\\\\0013_0001998\\\\', 'F:/trainset/trainset\\\\0013\\\\0013_0001999\\\\', 'F:/trainset/trainset\\\\0013\\\\0013_0002000\\\\', 'F:/trainset/trainset\\\\0013\\\\0013_0002001\\\\', 'F:/trainset/trainset\\\\0013\\\\0013_0002002\\\\', 'F:/trainset/trainset\\\\0013\\\\0013_0002010\\\\', 'F:/trainset/trainset\\\\0013\\\\0013_0002011\\\\', 'F:/trainset/trainset\\\\0013\\\\0013_0002014\\\\', 'F:/trainset/trainset\\\\0013\\\\0013_0002020\\\\', 'F:/trainset/trainset\\\\0013\\\\0013_0002021\\\\', 'F:/trainset/trainset\\\\0013\\\\0013_0002022\\\\', 'F:/trainset/trainset\\\\0013\\\\0013_0002023\\\\', 'F:/trainset/trainset\\\\0013\\\\0013_0002028\\\\', 'F:/trainset/trainset\\\\0013\\\\0013_0002030\\\\', 'F:/trainset/trainset\\\\0013\\\\0013_0002037\\\\', 'F:/trainset/trainset\\\\0013\\\\0013_0002038\\\\', 'F:/trainset/trainset\\\\0013\\\\0013_0002039\\\\', 'F:/trainset/trainset\\\\0013\\\\0013_0002040\\\\', 'F:/trainset/trainset\\\\0013\\\\0013_0002043\\\\', 'F:/trainset/trainset\\\\0013\\\\0013_0002044\\\\', 'F:/trainset/trainset\\\\0013\\\\0013_0002047\\\\', 'F:/trainset/trainset\\\\0013\\\\0013_0002048\\\\', 'F:/trainset/trainset\\\\0013\\\\0013_0002049\\\\', 'F:/trainset/trainset\\\\0013\\\\0013_0002054\\\\', 'F:/trainset/trainset\\\\0013\\\\0013_0002055\\\\', 'F:/trainset/trainset\\\\0013\\\\0013_0002057\\\\', 'F:/trainset/trainset\\\\0013\\\\0013_0002058\\\\', 'F:/trainset/trainset\\\\0013\\\\0013_0002061\\\\', 'F:/trainset/trainset\\\\0013\\\\0013_0002062\\\\', 'F:/trainset/trainset\\\\0013\\\\0013_0002063\\\\', 'F:/trainset/trainset\\\\0013\\\\0013_0002064\\\\', 'F:/trainset/trainset\\\\0013\\\\0013_0002065\\\\', 'F:/trainset/trainset\\\\0013\\\\0013_0002069\\\\', 'F:/trainset/trainset\\\\0013\\\\0013_0002071\\\\', 'F:/trainset/trainset\\\\0013\\\\0013_0002074\\\\', 'F:/trainset/trainset\\\\0013\\\\0013_0002076\\\\', 'F:/trainset/trainset\\\\0013\\\\0013_0002077\\\\', 'F:/trainset/trainset\\\\0013\\\\0013_0002081\\\\', 'F:/trainset/trainset\\\\0013\\\\0013_0002083\\\\', 'F:/trainset/trainset\\\\0013\\\\0013_0002084\\\\', 'F:/trainset/trainset\\\\0013\\\\0013_0002085\\\\', 'F:/trainset/trainset\\\\0013\\\\0013_0002089\\\\', 'F:/trainset/trainset\\\\0013\\\\0013_0002090\\\\', 'F:/trainset/trainset\\\\0013\\\\0013_0002091\\\\', 'F:/trainset/trainset\\\\0013\\\\0013_0002093\\\\', 'F:/trainset/trainset\\\\0013\\\\0013_0002095\\\\', 'F:/trainset/trainset\\\\0013\\\\0013_0002100\\\\', 'F:/trainset/trainset\\\\0013\\\\0013_0002101\\\\', 'F:/trainset/trainset\\\\0013\\\\0013_0002102\\\\', 'F:/trainset/trainset\\\\0013\\\\0013_0002106\\\\', 'F:/trainset/trainset\\\\0013\\\\0013_0002110\\\\', 'F:/trainset/trainset\\\\0013\\\\0013_0002112\\\\', 'F:/trainset/trainset\\\\0013\\\\0013_0002114\\\\', 'F:/trainset/trainset\\\\0013\\\\0013_0002116\\\\', 'F:/trainset/trainset\\\\0013\\\\0013_0002117\\\\', 'F:/trainset/trainset\\\\0013\\\\0013_0002120\\\\', 'F:/trainset/trainset\\\\0013\\\\0013_0002121\\\\', 'F:/trainset/trainset\\\\0013\\\\0013_0002122\\\\', 'F:/trainset/trainset\\\\0013\\\\0013_0002124\\\\', 'F:/trainset/trainset\\\\0013\\\\0013_0002134\\\\', 'F:/trainset/trainset\\\\0013\\\\0013_0002138\\\\', 'F:/trainset/trainset\\\\0013\\\\0013_0002141\\\\', 'F:/trainset/trainset\\\\0013\\\\0013_0002142\\\\', 'F:/trainset/trainset\\\\0013\\\\0013_0002143\\\\', 'F:/trainset/trainset\\\\0013\\\\0013_0002147\\\\', 'F:/trainset/trainset\\\\0013\\\\0013_0002149\\\\', 'F:/trainset/trainset\\\\0013\\\\0013_0002150\\\\', 'F:/trainset/trainset\\\\0013\\\\0013_0002151\\\\', 'F:/trainset/trainset\\\\0013\\\\0013_0002154\\\\', 'F:/trainset/trainset\\\\0013\\\\0013_0002155\\\\', 'F:/trainset/trainset\\\\0013\\\\0013_0002157\\\\', 'F:/trainset/trainset\\\\0013\\\\0013_0002158\\\\', 'F:/trainset/trainset\\\\0013\\\\0013_0002159\\\\', 'F:/trainset/trainset\\\\0013\\\\0013_0002164\\\\', 'F:/trainset/trainset\\\\0013\\\\0013_0002167\\\\', 'F:/trainset/trainset\\\\0013\\\\0013_0002168\\\\', 'F:/trainset/trainset\\\\0013\\\\0013_0002169\\\\', 'F:/trainset/trainset\\\\0013\\\\0013_0002174\\\\', 'F:/trainset/trainset\\\\0013\\\\0013_0002175\\\\', 'F:/trainset/trainset\\\\0013\\\\0013_0002176\\\\', 'F:/trainset/trainset\\\\0013\\\\0013_0002180\\\\', 'F:/trainset/trainset\\\\0013\\\\0013_0002183\\\\', 'F:/trainset/trainset\\\\0013\\\\0013_0002187\\\\', 'F:/trainset/trainset\\\\0013\\\\0013_0002188\\\\', 'F:/trainset/trainset\\\\0013\\\\0013_0002190\\\\', 'F:/trainset/trainset\\\\0013\\\\0013_0002192\\\\', 'F:/trainset/trainset\\\\0013\\\\0013_0002195\\\\', 'F:/trainset/trainset\\\\0013\\\\0013_0002196\\\\', 'F:/trainset/trainset\\\\0013\\\\0013_0002197\\\\', 'F:/trainset/trainset\\\\0013\\\\0013_0002200\\\\', 'F:/trainset/trainset\\\\0013\\\\0013_0002201\\\\', 'F:/trainset/trainset\\\\0013\\\\0013_0002202\\\\', 'F:/trainset/trainset\\\\0013\\\\0013_0002203\\\\', 'F:/trainset/trainset\\\\0013\\\\0013_0002205\\\\', 'F:/trainset/trainset\\\\0013\\\\0013_0002207\\\\', 'F:/trainset/trainset\\\\0013\\\\0013_0002211\\\\', 'F:/trainset/trainset\\\\0013\\\\0013_0002213\\\\', 'F:/trainset/trainset\\\\0013\\\\0013_0002214\\\\', 'F:/trainset/trainset\\\\0013\\\\0013_0002216\\\\', 'F:/trainset/trainset\\\\0013\\\\0013_0002218\\\\', 'F:/trainset/trainset\\\\0013\\\\0013_0002221\\\\', 'F:/trainset/trainset\\\\0013\\\\0013_0002225\\\\', 'F:/trainset/trainset\\\\0013\\\\0013_0002227\\\\', 'F:/trainset/trainset\\\\0013\\\\0013_0002229\\\\', 'F:/trainset/trainset\\\\0013\\\\0013_0002235\\\\', 'F:/trainset/trainset\\\\0013\\\\0013_0002238\\\\', 'F:/trainset/trainset\\\\0013\\\\0013_0002239\\\\', 'F:/trainset/trainset\\\\0013\\\\0013_0002240\\\\', 'F:/trainset/trainset\\\\0013\\\\0013_0002246\\\\', 'F:/trainset/trainset\\\\0013\\\\0013_0002247\\\\', 'F:/trainset/trainset\\\\0013\\\\0013_0002248\\\\', 'F:/trainset/trainset\\\\0013\\\\0013_0002249\\\\', 'F:/trainset/trainset\\\\0013\\\\0013_0002250\\\\', 'F:/trainset/trainset\\\\0013\\\\0013_0002260\\\\', 'F:/trainset/trainset\\\\0013\\\\0013_0002261\\\\', 'F:/trainset/trainset\\\\0013\\\\0013_0002264\\\\', 'F:/trainset/trainset\\\\0013\\\\0013_0002265\\\\', 'F:/trainset/trainset\\\\0013\\\\0013_0002267\\\\', 'F:/trainset/trainset\\\\0013\\\\0013_0002271\\\\', 'F:/trainset/trainset\\\\0013\\\\0013_0002272\\\\', 'F:/trainset/trainset\\\\0013\\\\0013_0002273\\\\', 'F:/trainset/trainset\\\\0013\\\\0013_0002274\\\\', 'F:/trainset/trainset\\\\0013\\\\0013_0002278\\\\', 'F:/trainset/trainset\\\\0013\\\\0013_0002279\\\\', 'F:/trainset/trainset\\\\0013\\\\0013_0002281\\\\', 'F:/trainset/trainset\\\\0013\\\\0013_0002284\\\\', 'F:/trainset/trainset\\\\0013\\\\0013_0002286\\\\', 'F:/trainset/trainset\\\\0013\\\\0013_0002287\\\\', 'F:/trainset/trainset\\\\0013\\\\0013_0002289\\\\', 'F:/trainset/trainset\\\\0013\\\\0013_0002290\\\\', 'F:/trainset/trainset\\\\0013\\\\0013_0002291\\\\', 'F:/trainset/trainset\\\\0013\\\\0013_0002294\\\\', 'F:/trainset/trainset\\\\0013\\\\0013_0002295\\\\', 'F:/trainset/trainset\\\\0013\\\\0013_0002296\\\\', 'F:/trainset/trainset\\\\0013\\\\0013_0002297\\\\', 'F:/trainset/trainset\\\\0013\\\\0013_0002298\\\\', 'F:/trainset/trainset\\\\0013\\\\0013_0002299\\\\', 'F:/trainset/trainset\\\\0013\\\\0013_0002301\\\\', 'F:/trainset/trainset\\\\0013\\\\0013_0002303\\\\', 'F:/trainset/trainset\\\\0013\\\\0013_0002304\\\\', 'F:/trainset/trainset\\\\0013\\\\0013_0002308\\\\', 'F:/trainset/trainset\\\\0013\\\\0013_0002309\\\\', 'F:/trainset/trainset\\\\0013\\\\0013_0002310\\\\', 'F:/trainset/trainset\\\\0013\\\\0013_0002313\\\\', 'F:/trainset/trainset\\\\0013\\\\0013_0002317\\\\', 'F:/trainset/trainset\\\\0013\\\\0013_0002318\\\\', 'F:/trainset/trainset\\\\0013\\\\0013_0002319\\\\', 'F:/trainset/trainset\\\\0013\\\\0013_0002321\\\\', 'F:/trainset/trainset\\\\0013\\\\0013_0002322\\\\', 'F:/trainset/trainset\\\\0013\\\\0013_0002330\\\\', 'F:/trainset/trainset\\\\0013\\\\0013_0002333\\\\', 'F:/trainset/trainset\\\\0013\\\\0013_0002334\\\\', 'F:/trainset/trainset\\\\0013\\\\0013_0002338\\\\', 'F:/trainset/trainset\\\\0013\\\\0013_0002339\\\\', 'F:/trainset/trainset\\\\0013\\\\0013_0002340\\\\', 'F:/trainset/trainset\\\\0013\\\\0013_0002343\\\\', 'F:/trainset/trainset\\\\0013\\\\0013_0002344\\\\', 'F:/trainset/trainset\\\\0013\\\\0013_0002345\\\\', 'F:/trainset/trainset\\\\0013\\\\0013_0002350\\\\', 'F:/trainset/trainset\\\\0013\\\\0013_0002352\\\\', 'F:/trainset/trainset\\\\0013\\\\0013_0002355\\\\', 'F:/trainset/trainset\\\\0013\\\\0013_0002356\\\\', 'F:/trainset/trainset\\\\0013\\\\0013_0002357\\\\', 'F:/trainset/trainset\\\\0013\\\\0013_0002358\\\\', 'F:/trainset/trainset\\\\0013\\\\0013_0002359\\\\', 'F:/trainset/trainset\\\\0013\\\\0013_0002360\\\\', 'F:/trainset/trainset\\\\0013\\\\0013_0002361\\\\', 'F:/trainset/trainset\\\\0013\\\\0013_0002366\\\\', 'F:/trainset/trainset\\\\0013\\\\0013_0002367\\\\', 'F:/trainset/trainset\\\\0013\\\\0013_0002368\\\\', 'F:/trainset/trainset\\\\0013\\\\0013_0002369\\\\', 'F:/trainset/trainset\\\\0013\\\\0013_0002370\\\\', 'F:/trainset/trainset\\\\0013\\\\0013_0002372\\\\', 'F:/trainset/trainset\\\\0013\\\\0013_0002376\\\\', 'F:/trainset/trainset\\\\0013\\\\0013_0002377\\\\', 'F:/trainset/trainset\\\\0013\\\\0013_0002378\\\\', 'F:/trainset/trainset\\\\0013\\\\0013_0002387\\\\', 'F:/trainset/trainset\\\\0013\\\\0013_0002389\\\\', 'F:/trainset/trainset\\\\0013\\\\0013_0002390\\\\', 'F:/trainset/trainset\\\\0013\\\\0013_0002392\\\\', 'F:/trainset/trainset\\\\0013\\\\0013_0002394\\\\', 'F:/trainset/trainset\\\\0013\\\\0013_0002395\\\\', 'F:/trainset/trainset\\\\0013\\\\0013_0002396\\\\', 'F:/trainset/trainset\\\\0013\\\\0013_0002397\\\\', 'F:/trainset/trainset\\\\0013\\\\0013_0002399\\\\', 'F:/trainset/trainset\\\\0013\\\\0013_0002404\\\\', 'F:/trainset/trainset\\\\0013\\\\0013_0002405\\\\', 'F:/trainset/trainset\\\\0013\\\\0013_0002411\\\\', 'F:/trainset/trainset\\\\0013\\\\0013_0002412\\\\', 'F:/trainset/trainset\\\\0013\\\\0013_0002413\\\\', 'F:/trainset/trainset\\\\0013\\\\0013_0002414\\\\', 'F:/trainset/trainset\\\\0013\\\\0013_0002416\\\\', 'F:/trainset/trainset\\\\0013\\\\0013_0002417\\\\', 'F:/trainset/trainset\\\\0013\\\\0013_0002419\\\\', 'F:/trainset/trainset\\\\0013\\\\0013_0002423\\\\', 'F:/trainset/trainset\\\\0013\\\\0013_0002424\\\\', 'F:/trainset/trainset\\\\0013\\\\0013_0002425\\\\', 'F:/trainset/trainset\\\\0013\\\\0013_0002428\\\\', 'F:/trainset/trainset\\\\0013\\\\0013_0002431\\\\', 'F:/trainset/trainset\\\\0013\\\\0013_0002432\\\\', 'F:/trainset/trainset\\\\0013\\\\0013_0002433\\\\', 'F:/trainset/trainset\\\\0013\\\\0013_0002437\\\\', 'F:/trainset/trainset\\\\0013\\\\0013_0002441\\\\', 'F:/trainset/trainset\\\\0013\\\\0013_0002446\\\\', 'F:/trainset/trainset\\\\0013\\\\0013_0002447\\\\', 'F:/trainset/trainset\\\\0013\\\\0013_0002449\\\\', 'F:/trainset/trainset\\\\0013\\\\0013_0002450\\\\', 'F:/trainset/trainset\\\\0013\\\\0013_0002451\\\\', 'F:/trainset/trainset\\\\0013\\\\0013_0002453\\\\', 'F:/trainset/trainset\\\\0013\\\\0013_0002458\\\\', 'F:/trainset/trainset\\\\0013\\\\0013_0002460\\\\', 'F:/trainset/trainset\\\\0013\\\\0013_0002461\\\\', 'F:/trainset/trainset\\\\0013\\\\0013_0002466\\\\', 'F:/trainset/trainset\\\\0013\\\\0013_0002468\\\\', 'F:/trainset/trainset\\\\0013\\\\0013_0002471\\\\', 'F:/trainset/trainset\\\\0013\\\\0013_0002475\\\\', 'F:/trainset/trainset\\\\0013\\\\0013_0002478\\\\', 'F:/trainset/trainset\\\\0013\\\\0013_0002480\\\\', 'F:/trainset/trainset\\\\0013\\\\0013_0002481\\\\', 'F:/trainset/trainset\\\\0013\\\\0013_0002482\\\\', 'F:/trainset/trainset\\\\0013\\\\0013_0002484\\\\', 'F:/trainset/trainset\\\\0013\\\\0013_0002493\\\\', 'F:/trainset/trainset\\\\0014\\\\', 'F:/trainset/trainset\\\\0014\\\\0014_0002509\\\\', 'F:/trainset/trainset\\\\0014\\\\0014_0002510\\\\', 'F:/trainset/trainset\\\\0014\\\\0014_0002515\\\\', 'F:/trainset/trainset\\\\0014\\\\0014_0002525\\\\', 'F:/trainset/trainset\\\\0014\\\\0014_0002526\\\\', 'F:/trainset/trainset\\\\0014\\\\0014_0002529\\\\', 'F:/trainset/trainset\\\\0014\\\\0014_0002530\\\\', 'F:/trainset/trainset\\\\0014\\\\0014_0002535\\\\', 'F:/trainset/trainset\\\\0014\\\\0014_0002536\\\\', 'F:/trainset/trainset\\\\0014\\\\0014_0002540\\\\', 'F:/trainset/trainset\\\\0014\\\\0014_0002560\\\\', 'F:/trainset/trainset\\\\0014\\\\0014_0002569\\\\', 'F:/trainset/trainset\\\\0014\\\\0014_0002570\\\\', 'F:/trainset/trainset\\\\0014\\\\0014_0002571\\\\', 'F:/trainset/trainset\\\\0014\\\\0014_0002585\\\\', 'F:/trainset/trainset\\\\0014\\\\0014_0002593\\\\', 'F:/trainset/trainset\\\\0014\\\\0014_0002594\\\\', 'F:/trainset/trainset\\\\0014\\\\0014_0002600\\\\', 'F:/trainset/trainset\\\\0014\\\\0014_0002614\\\\', 'F:/trainset/trainset\\\\0014\\\\0014_0002623\\\\']\n"
     ]
    }
   ],
   "source": [
    "#Dataloader\n",
    "\n",
    "#Path for training and testing directory\n",
    "train_path='F:/trainset/trainset/'\n",
    "test_path='F:/trainset/trainset/'\n",
    " \n",
    "# create empty List\n",
    "listOfFiles = [f for f in glob.glob(train_path + \"**/\", recursive=True)]\n",
    " \n",
    "print(listOfFiles)"
   ]
  },
  {
   "cell_type": "code",
   "execution_count": 19,
   "id": "turkish-entrance",
   "metadata": {},
   "outputs": [
    {
     "ename": "OSError",
     "evalue": "[WinError 123] The filename, directory name, or volume label syntax is incorrect: 'F:/trainset/trainset/**/*.jpg'",
     "output_type": "error",
     "traceback": [
      "\u001b[1;31m---------------------------------------------------------------------------\u001b[0m",
      "\u001b[1;31mOSError\u001b[0m                                   Traceback (most recent call last)",
      "\u001b[1;32m<ipython-input-19-66b5ea6c9782>\u001b[0m in \u001b[0;36m<module>\u001b[1;34m\u001b[0m\n\u001b[0;32m      1\u001b[0m train_loader=DataLoader(\n\u001b[1;32m----> 2\u001b[1;33m     \u001b[0mtorchvision\u001b[0m\u001b[1;33m.\u001b[0m\u001b[0mdatasets\u001b[0m\u001b[1;33m.\u001b[0m\u001b[0mImageFolder\u001b[0m\u001b[1;33m(\u001b[0m\u001b[0mtrain_path\u001b[0m\u001b[1;33m,\u001b[0m\u001b[0mtransform\u001b[0m\u001b[1;33m=\u001b[0m\u001b[0mtransformer\u001b[0m\u001b[1;33m)\u001b[0m\u001b[1;33m,\u001b[0m\u001b[1;33m\u001b[0m\u001b[1;33m\u001b[0m\u001b[0m\n\u001b[0m\u001b[0;32m      3\u001b[0m     \u001b[0mbatch_size\u001b[0m\u001b[1;33m=\u001b[0m\u001b[1;36m1\u001b[0m\u001b[1;33m,\u001b[0m \u001b[0mshuffle\u001b[0m\u001b[1;33m=\u001b[0m\u001b[1;32mTrue\u001b[0m\u001b[1;33m\u001b[0m\u001b[1;33m\u001b[0m\u001b[0m\n\u001b[0;32m      4\u001b[0m )\n\u001b[0;32m      5\u001b[0m test_loader=DataLoader(\n",
      "\u001b[1;32mc:\\users\\ashis\\appdata\\local\\programs\\python\\python38\\lib\\site-packages\\torchvision\\datasets\\folder.py\u001b[0m in \u001b[0;36m__init__\u001b[1;34m(self, root, transform, target_transform, loader, is_valid_file)\u001b[0m\n\u001b[0;32m    251\u001b[0m             \u001b[0mis_valid_file\u001b[0m\u001b[1;33m:\u001b[0m \u001b[0mOptional\u001b[0m\u001b[1;33m[\u001b[0m\u001b[0mCallable\u001b[0m\u001b[1;33m[\u001b[0m\u001b[1;33m[\u001b[0m\u001b[0mstr\u001b[0m\u001b[1;33m]\u001b[0m\u001b[1;33m,\u001b[0m \u001b[0mbool\u001b[0m\u001b[1;33m]\u001b[0m\u001b[1;33m]\u001b[0m \u001b[1;33m=\u001b[0m \u001b[1;32mNone\u001b[0m\u001b[1;33m,\u001b[0m\u001b[1;33m\u001b[0m\u001b[1;33m\u001b[0m\u001b[0m\n\u001b[0;32m    252\u001b[0m     ):\n\u001b[1;32m--> 253\u001b[1;33m         super(ImageFolder, self).__init__(root, loader, IMG_EXTENSIONS if is_valid_file is None else None,\n\u001b[0m\u001b[0;32m    254\u001b[0m                                           \u001b[0mtransform\u001b[0m\u001b[1;33m=\u001b[0m\u001b[0mtransform\u001b[0m\u001b[1;33m,\u001b[0m\u001b[1;33m\u001b[0m\u001b[1;33m\u001b[0m\u001b[0m\n\u001b[0;32m    255\u001b[0m                                           \u001b[0mtarget_transform\u001b[0m\u001b[1;33m=\u001b[0m\u001b[0mtarget_transform\u001b[0m\u001b[1;33m,\u001b[0m\u001b[1;33m\u001b[0m\u001b[1;33m\u001b[0m\u001b[0m\n",
      "\u001b[1;32mc:\\users\\ashis\\appdata\\local\\programs\\python\\python38\\lib\\site-packages\\torchvision\\datasets\\folder.py\u001b[0m in \u001b[0;36m__init__\u001b[1;34m(self, root, loader, extensions, transform, target_transform, is_valid_file)\u001b[0m\n\u001b[0;32m    124\u001b[0m         super(DatasetFolder, self).__init__(root, transform=transform,\n\u001b[0;32m    125\u001b[0m                                             target_transform=target_transform)\n\u001b[1;32m--> 126\u001b[1;33m         \u001b[0mclasses\u001b[0m\u001b[1;33m,\u001b[0m \u001b[0mclass_to_idx\u001b[0m \u001b[1;33m=\u001b[0m \u001b[0mself\u001b[0m\u001b[1;33m.\u001b[0m\u001b[0m_find_classes\u001b[0m\u001b[1;33m(\u001b[0m\u001b[0mself\u001b[0m\u001b[1;33m.\u001b[0m\u001b[0mroot\u001b[0m\u001b[1;33m)\u001b[0m\u001b[1;33m\u001b[0m\u001b[1;33m\u001b[0m\u001b[0m\n\u001b[0m\u001b[0;32m    127\u001b[0m         \u001b[0msamples\u001b[0m \u001b[1;33m=\u001b[0m \u001b[0mself\u001b[0m\u001b[1;33m.\u001b[0m\u001b[0mmake_dataset\u001b[0m\u001b[1;33m(\u001b[0m\u001b[0mself\u001b[0m\u001b[1;33m.\u001b[0m\u001b[0mroot\u001b[0m\u001b[1;33m,\u001b[0m \u001b[0mclass_to_idx\u001b[0m\u001b[1;33m,\u001b[0m \u001b[0mextensions\u001b[0m\u001b[1;33m,\u001b[0m \u001b[0mis_valid_file\u001b[0m\u001b[1;33m)\u001b[0m\u001b[1;33m\u001b[0m\u001b[1;33m\u001b[0m\u001b[0m\n\u001b[0;32m    128\u001b[0m         \u001b[1;32mif\u001b[0m \u001b[0mlen\u001b[0m\u001b[1;33m(\u001b[0m\u001b[0msamples\u001b[0m\u001b[1;33m)\u001b[0m \u001b[1;33m==\u001b[0m \u001b[1;36m0\u001b[0m\u001b[1;33m:\u001b[0m\u001b[1;33m\u001b[0m\u001b[1;33m\u001b[0m\u001b[0m\n",
      "\u001b[1;32mc:\\users\\ashis\\appdata\\local\\programs\\python\\python38\\lib\\site-packages\\torchvision\\datasets\\folder.py\u001b[0m in \u001b[0;36m_find_classes\u001b[1;34m(self, dir)\u001b[0m\n\u001b[0;32m    162\u001b[0m             \u001b[0mNo\u001b[0m \u001b[1;32mclass\u001b[0m \u001b[1;32mis\u001b[0m \u001b[0ma\u001b[0m \u001b[0msubdirectory\u001b[0m \u001b[0mof\u001b[0m \u001b[0manother\u001b[0m\u001b[1;33m.\u001b[0m\u001b[1;33m\u001b[0m\u001b[1;33m\u001b[0m\u001b[0m\n\u001b[0;32m    163\u001b[0m         \"\"\"\n\u001b[1;32m--> 164\u001b[1;33m         \u001b[0mclasses\u001b[0m \u001b[1;33m=\u001b[0m \u001b[1;33m[\u001b[0m\u001b[0md\u001b[0m\u001b[1;33m.\u001b[0m\u001b[0mname\u001b[0m \u001b[1;32mfor\u001b[0m \u001b[0md\u001b[0m \u001b[1;32min\u001b[0m \u001b[0mos\u001b[0m\u001b[1;33m.\u001b[0m\u001b[0mscandir\u001b[0m\u001b[1;33m(\u001b[0m\u001b[0mdir\u001b[0m\u001b[1;33m)\u001b[0m \u001b[1;32mif\u001b[0m \u001b[0md\u001b[0m\u001b[1;33m.\u001b[0m\u001b[0mis_dir\u001b[0m\u001b[1;33m(\u001b[0m\u001b[1;33m)\u001b[0m\u001b[1;33m]\u001b[0m\u001b[1;33m\u001b[0m\u001b[1;33m\u001b[0m\u001b[0m\n\u001b[0m\u001b[0;32m    165\u001b[0m         \u001b[0mclasses\u001b[0m\u001b[1;33m.\u001b[0m\u001b[0msort\u001b[0m\u001b[1;33m(\u001b[0m\u001b[1;33m)\u001b[0m\u001b[1;33m\u001b[0m\u001b[1;33m\u001b[0m\u001b[0m\n\u001b[0;32m    166\u001b[0m         \u001b[0mclass_to_idx\u001b[0m \u001b[1;33m=\u001b[0m \u001b[1;33m{\u001b[0m\u001b[0mcls_name\u001b[0m\u001b[1;33m:\u001b[0m \u001b[0mi\u001b[0m \u001b[1;32mfor\u001b[0m \u001b[0mi\u001b[0m\u001b[1;33m,\u001b[0m \u001b[0mcls_name\u001b[0m \u001b[1;32min\u001b[0m \u001b[0menumerate\u001b[0m\u001b[1;33m(\u001b[0m\u001b[0mclasses\u001b[0m\u001b[1;33m)\u001b[0m\u001b[1;33m}\u001b[0m\u001b[1;33m\u001b[0m\u001b[1;33m\u001b[0m\u001b[0m\n",
      "\u001b[1;31mOSError\u001b[0m: [WinError 123] The filename, directory name, or volume label syntax is incorrect: 'F:/trainset/trainset/**/*.jpg'"
     ]
    }
   ],
   "source": [
    "train_loader = list()\n",
    "=DataLoader(\n",
    "    torchvision.datasets.ImageFolder(train_path,transform=transformer),\n",
    "    batch_size=1, shuffle=True\n",
    ")\n",
    "test_loader=DataLoader(\n",
    "    torchvision.datasets.ImageFolder(test_path,transform=transformer),\n",
    "    batch_size=1, shuffle=True\n",
    ")"
   ]
  },
  {
   "cell_type": "code",
   "execution_count": null,
   "id": "departmental-president",
   "metadata": {},
   "outputs": [],
   "source": [
    "#categories\n",
    "root=pathlib.Path(train_path)\n",
    "classes=sorted([j.name.split('/')[-1] for j in root.iterdir()])"
   ]
  },
  {
   "cell_type": "code",
   "execution_count": null,
   "id": "available-brother",
   "metadata": {},
   "outputs": [],
   "source": [
    "print(classes)"
   ]
  },
  {
   "cell_type": "code",
   "execution_count": null,
   "id": "focal-values",
   "metadata": {},
   "outputs": [],
   "source": [
    "#CNN Network\n",
    "\n",
    "\n",
    "class ConvNet(nn.Module):\n",
    "    def __init__(self,num_classes=6):\n",
    "        super(ConvNet,self).__init__()\n",
    "        \n",
    "        #Output size after convolution filter\n",
    "        #((w-f+2P)/s) +1\n",
    "        \n",
    "        #Input shape= (256,3,150,150)\n",
    "        \n",
    "        self.conv1=nn.Conv2d(in_channels=3,out_channels=12,kernel_size=3,stride=1,padding=1)\n",
    "        #Shape= (256,12,150,150)\n",
    "        self.bn1=nn.BatchNorm2d(num_features=12)\n",
    "        #Shape= (256,12,150,150)\n",
    "        self.relu1=nn.ReLU()\n",
    "        #Shape= (256,12,150,150)\n",
    "        \n",
    "        self.pool=nn.MaxPool2d(kernel_size=2)\n",
    "        #Reduce the image size be factor 2\n",
    "        #Shape= (256,12,75,75)\n",
    "        \n",
    "        \n",
    "        self.conv2=nn.Conv2d(in_channels=12,out_channels=20,kernel_size=3,stride=1,padding=1)\n",
    "        #Shape= (256,20,75,75)\n",
    "        self.relu2=nn.ReLU()\n",
    "        #Shape= (256,20,75,75)\n",
    "        \n",
    "        \n",
    "        \n",
    "        self.conv3=nn.Conv2d(in_channels=20,out_channels=32,kernel_size=3,stride=1,padding=1)\n",
    "        #Shape= (256,32,75,75)\n",
    "        self.bn3=nn.BatchNorm2d(num_features=32)\n",
    "        #Shape= (256,32,75,75)\n",
    "        self.relu3=nn.ReLU()\n",
    "        #Shape= (256,32,75,75)\n",
    "        \n",
    "        \n",
    "        self.fc=nn.Linear(in_features=75 * 75 * 32,out_features=num_classes)\n",
    "        \n",
    "        \n",
    "        \n",
    "        #Feed forwad function\n",
    "        \n",
    "    def forward(self,input):\n",
    "        output=self.conv1(input)\n",
    "        output=self.bn1(output)\n",
    "        output=self.relu1(output)\n",
    "            \n",
    "        output=self.pool(output)\n",
    "            \n",
    "        output=self.conv2(output)\n",
    "        output=self.relu2(output)\n",
    "            \n",
    "        output=self.conv3(output)\n",
    "        output=self.bn3(output)\n",
    "        output=self.relu3(output)\n",
    "            \n",
    "            \n",
    "            #Above output will be in matrix form, with shape (256,32,75,75)\n",
    "            \n",
    "        output=output.view(-1,32*75*75)\n",
    "            \n",
    "            \n",
    "        output=self.fc(output)\n",
    "            \n",
    "        return output"
   ]
  },
  {
   "cell_type": "code",
   "execution_count": null,
   "id": "fancy-outdoors",
   "metadata": {},
   "outputs": [],
   "source": [
    "model=ConvNet(num_classes=6).to(device)"
   ]
  },
  {
   "cell_type": "code",
   "execution_count": null,
   "id": "liked-isaac",
   "metadata": {},
   "outputs": [],
   "source": [
    "#Optmizer and loss function\n",
    "optimizer=Adam(model.parameters(),lr=0.001,weight_decay=0.0001)\n",
    "loss_function=nn.CrossEntropyLoss()"
   ]
  },
  {
   "cell_type": "code",
   "execution_count": null,
   "id": "mounted-fever",
   "metadata": {},
   "outputs": [],
   "source": [
    "num_epochs=10"
   ]
  },
  {
   "cell_type": "code",
   "execution_count": null,
   "id": "varied-leone",
   "metadata": {},
   "outputs": [],
   "source": [
    "#calculating the size of training and testing images\n",
    "train_count=len(glob.glob(train_path+'/**/*.jpg'))\n",
    "test_count=len(glob.glob(test_path+'/**/*.jpg'))"
   ]
  },
  {
   "cell_type": "code",
   "execution_count": null,
   "id": "sealed-glory",
   "metadata": {},
   "outputs": [],
   "source": [
    "#Model training and saving best model\n",
    "\n",
    "best_accuracy=0.0\n",
    "\n",
    "for epoch in range(num_epochs):\n",
    "    \n",
    "    #Evaluation and training on training dataset\n",
    "    model.train()\n",
    "    train_accuracy=0.0\n",
    "    train_loss=0.0\n",
    "    \n",
    "    for i, (images,labels) in enumerate(train_loader):\n",
    "        if torch.cuda.is_available():\n",
    "            images=Variable(images.cuda())\n",
    "            labels=Variable(labels.cuda())\n",
    "            \n",
    "        optimizer.zero_grad()\n",
    "        \n",
    "        outputs=model(images)\n",
    "        loss=loss_function(outputs,labels)\n",
    "        loss.backward()\n",
    "        optimizer.step()\n",
    "        \n",
    "        \n",
    "        train_loss+= loss.cpu().data*images.size(0)\n",
    "        _,prediction=torch.max(outputs.data,1)\n",
    "        \n",
    "        train_accuracy+=int(torch.sum(prediction==labels.data))\n",
    "        \n",
    "    train_accuracy=train_accuracy/train_count\n",
    "    train_loss=train_loss/train_count\n",
    "    \n",
    "    \n",
    "    # Evaluation on testing dataset\n",
    "    model.eval()\n",
    "    \n",
    "    test_accuracy=0.0\n",
    "    for i, (images,labels) in enumerate(test_loader):\n",
    "        if torch.cuda.is_available():\n",
    "            images=Variable(images.cuda())\n",
    "            labels=Variable(labels.cuda())\n",
    "            \n",
    "        outputs=model(images)\n",
    "        _,prediction=torch.max(outputs.data,1)\n",
    "        test_accuracy+=int(torch.sum(prediction==labels.data))\n",
    "    \n",
    "    test_accuracy=test_accuracy/test_count\n",
    "    \n",
    "    \n",
    "    print('Epoch: '+str(epoch)+' Train Loss: '+str(train_loss)+' Train Accuracy: '+str(train_accuracy)+' Test Accuracy: '+str(test_accuracy))\n",
    "    \n",
    "    #Save the best model\n",
    "    if test_accuracy>best_accuracy:\n",
    "        torch.save(model.state_dict(),'best_checkpoint.model')\n",
    "        best_accuracy=test_accuracy"
   ]
  },
  {
   "cell_type": "code",
   "execution_count": null,
   "id": "sudden-orleans",
   "metadata": {},
   "outputs": [],
   "source": []
  },
  {
   "cell_type": "code",
   "execution_count": null,
   "id": "administrative-rapid",
   "metadata": {},
   "outputs": [],
   "source": []
  }
 ],
 "metadata": {
  "kernelspec": {
   "display_name": "Python 3",
   "language": "python",
   "name": "python3"
  },
  "language_info": {
   "codemirror_mode": {
    "name": "ipython",
    "version": 3
   },
   "file_extension": ".py",
   "mimetype": "text/x-python",
   "name": "python",
   "nbconvert_exporter": "python",
   "pygments_lexer": "ipython3",
   "version": "3.8.7"
  }
 },
 "nbformat": 4,
 "nbformat_minor": 5
}
